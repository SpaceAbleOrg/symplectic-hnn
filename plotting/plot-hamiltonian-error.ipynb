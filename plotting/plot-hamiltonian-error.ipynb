{
 "cells": [
  {
   "cell_type": "code",
   "execution_count": 1,
   "id": "d01ec4f3",
   "metadata": {},
   "outputs": [],
   "source": [
    "# If this notebook is in a subdirectory of the project's root,\n",
    "# update the PYTHONPATH to be able to import as usual\n",
    "import os, sys\n",
    "project_root = os.path.dirname(os.path.abspath(''))\n",
    "sys.path.append(project_root)"
   ]
  },
  {
   "cell_type": "code",
   "execution_count": 2,
   "id": "126e6430",
   "metadata": {},
   "outputs": [],
   "source": [
    "# Standard Imports\n",
    "import numpy as np\n",
    "import matplotlib as mpl\n",
    "from matplotlib import pyplot as plt\n",
    "from joblib import Parallel, delayed\n",
    "\n",
    "# Project Imports\n",
    "from model.data import get_t_eval\n",
    "from model.hnn import HNN, CorrectedHNN\n",
    "from model.args import get_args, UpdatableNamespace, custom_product\n",
    "\n",
    "from train import setup, train_if_missing\n",
    "from utils import save_path\n",
    "from integrate import integrate_model_rk45, integrate_model_custom, get_predicted_vector_field\n",
    "from compare_hamiltonian import hamiltonian_error_grid\n",
    "from parallelize import load_args"
   ]
  },
  {
   "cell_type": "code",
   "execution_count": 3,
   "id": "622e346a",
   "metadata": {},
   "outputs": [],
   "source": [
    "default_args = get_args(lenient=True)  # returns the default arguments, except for the non-optional argument name\n",
    "default_args = default_args | {'name': 'pendulum'}\n",
    "\n",
    "hs = np.array([0.8, 0.4, 0.2, 0.1, 0.05])\n",
    "methods = ['euler-forw', 'euler-symp', 'midpoint']\n",
    "\n",
    "print_method = {'euler-forw': \"forward Euler (HNN)\",\n",
    "                'euler-symp': \"symplectic Euler\",\n",
    "                'midpoint': \"implicit midpoint\"}\n",
    "print_name = {'spring': \"Harm. Oscillator\",\n",
    "              'pendulum': \"Pendulum\",\n",
    "              'fput': \"FPUT Problem\",\n",
    "              'twobody': \"Two-body Problem\"}"
   ]
  },
  {
   "cell_type": "code",
   "execution_count": 5,
   "id": "58006f31",
   "metadata": {},
   "outputs": [
    {
     "name": "stderr",
     "output_type": "stream",
     "text": [
      "[Parallel(n_jobs=-1)]: Using backend LokyBackend with 8 concurrent workers.\n"
     ]
    },
    {
     "ename": "KeyboardInterrupt",
     "evalue": "",
     "output_type": "error",
     "traceback": [
      "\u001b[0;31m---------------------------------------------------------------------------\u001b[0m",
      "\u001b[0;31mKeyboardInterrupt\u001b[0m                         Traceback (most recent call last)",
      "\u001b[0;32m<ipython-input-5-1411fe38e1ac>\u001b[0m in \u001b[0;36m<module>\u001b[0;34m\u001b[0m\n\u001b[1;32m      1\u001b[0m \u001b[0;31m# Train all missing models\u001b[0m\u001b[0;34m\u001b[0m\u001b[0;34m\u001b[0m\u001b[0;34m\u001b[0m\u001b[0m\n\u001b[1;32m      2\u001b[0m \u001b[0margs_list\u001b[0m \u001b[0;34m=\u001b[0m \u001b[0mlist\u001b[0m\u001b[0;34m(\u001b[0m\u001b[0mload_args\u001b[0m\u001b[0;34m(\u001b[0m\u001b[0mbase_args\u001b[0m\u001b[0;34m=\u001b[0m\u001b[0mdefault_args\u001b[0m\u001b[0;34m,\u001b[0m \u001b[0mcustom_prod\u001b[0m\u001b[0;34m=\u001b[0m\u001b[0mcustom_product\u001b[0m\u001b[0;34m(\u001b[0m\u001b[0mh_list\u001b[0m\u001b[0;34m=\u001b[0m\u001b[0mhs\u001b[0m\u001b[0;34m,\u001b[0m \u001b[0mloss_type_list\u001b[0m\u001b[0;34m=\u001b[0m\u001b[0mmethods\u001b[0m\u001b[0;34m)\u001b[0m\u001b[0;34m)\u001b[0m\u001b[0;34m)\u001b[0m\u001b[0;34m\u001b[0m\u001b[0;34m\u001b[0m\u001b[0m\n\u001b[0;32m----> 3\u001b[0;31m \u001b[0m_\u001b[0m \u001b[0;34m=\u001b[0m \u001b[0mParallel\u001b[0m\u001b[0;34m(\u001b[0m\u001b[0mn_jobs\u001b[0m\u001b[0;34m=\u001b[0m\u001b[0;34m-\u001b[0m\u001b[0;36m1\u001b[0m\u001b[0;34m,\u001b[0m \u001b[0mverbose\u001b[0m\u001b[0;34m=\u001b[0m\u001b[0;32mTrue\u001b[0m\u001b[0;34m)\u001b[0m\u001b[0;34m(\u001b[0m\u001b[0mdelayed\u001b[0m\u001b[0;34m(\u001b[0m\u001b[0mtrain_if_missing\u001b[0m\u001b[0;34m)\u001b[0m\u001b[0;34m(\u001b[0m\u001b[0margs\u001b[0m\u001b[0;34m)\u001b[0m \u001b[0;32mfor\u001b[0m \u001b[0margs\u001b[0m \u001b[0;32min\u001b[0m \u001b[0margs_list\u001b[0m\u001b[0;34m)\u001b[0m\u001b[0;34m\u001b[0m\u001b[0;34m\u001b[0m\u001b[0m\n\u001b[0m",
      "\u001b[0;32m~/opt/anaconda3/envs/main3.9/lib/python3.9/site-packages/joblib/parallel.py\u001b[0m in \u001b[0;36m__call__\u001b[0;34m(self, iterable)\u001b[0m\n\u001b[1;32m   1052\u001b[0m \u001b[0;34m\u001b[0m\u001b[0m\n\u001b[1;32m   1053\u001b[0m             \u001b[0;32mwith\u001b[0m \u001b[0mself\u001b[0m\u001b[0;34m.\u001b[0m\u001b[0m_backend\u001b[0m\u001b[0;34m.\u001b[0m\u001b[0mretrieval_context\u001b[0m\u001b[0;34m(\u001b[0m\u001b[0;34m)\u001b[0m\u001b[0;34m:\u001b[0m\u001b[0;34m\u001b[0m\u001b[0;34m\u001b[0m\u001b[0m\n\u001b[0;32m-> 1054\u001b[0;31m                 \u001b[0mself\u001b[0m\u001b[0;34m.\u001b[0m\u001b[0mretrieve\u001b[0m\u001b[0;34m(\u001b[0m\u001b[0;34m)\u001b[0m\u001b[0;34m\u001b[0m\u001b[0;34m\u001b[0m\u001b[0m\n\u001b[0m\u001b[1;32m   1055\u001b[0m             \u001b[0;31m# Make sure that we get a last message telling us we are done\u001b[0m\u001b[0;34m\u001b[0m\u001b[0;34m\u001b[0m\u001b[0;34m\u001b[0m\u001b[0m\n\u001b[1;32m   1056\u001b[0m             \u001b[0melapsed_time\u001b[0m \u001b[0;34m=\u001b[0m \u001b[0mtime\u001b[0m\u001b[0;34m.\u001b[0m\u001b[0mtime\u001b[0m\u001b[0;34m(\u001b[0m\u001b[0;34m)\u001b[0m \u001b[0;34m-\u001b[0m \u001b[0mself\u001b[0m\u001b[0;34m.\u001b[0m\u001b[0m_start_time\u001b[0m\u001b[0;34m\u001b[0m\u001b[0;34m\u001b[0m\u001b[0m\n",
      "\u001b[0;32m~/opt/anaconda3/envs/main3.9/lib/python3.9/site-packages/joblib/parallel.py\u001b[0m in \u001b[0;36mretrieve\u001b[0;34m(self)\u001b[0m\n\u001b[1;32m    931\u001b[0m             \u001b[0;32mtry\u001b[0m\u001b[0;34m:\u001b[0m\u001b[0;34m\u001b[0m\u001b[0;34m\u001b[0m\u001b[0m\n\u001b[1;32m    932\u001b[0m                 \u001b[0;32mif\u001b[0m \u001b[0mgetattr\u001b[0m\u001b[0;34m(\u001b[0m\u001b[0mself\u001b[0m\u001b[0;34m.\u001b[0m\u001b[0m_backend\u001b[0m\u001b[0;34m,\u001b[0m \u001b[0;34m'supports_timeout'\u001b[0m\u001b[0;34m,\u001b[0m \u001b[0;32mFalse\u001b[0m\u001b[0;34m)\u001b[0m\u001b[0;34m:\u001b[0m\u001b[0;34m\u001b[0m\u001b[0;34m\u001b[0m\u001b[0m\n\u001b[0;32m--> 933\u001b[0;31m                     \u001b[0mself\u001b[0m\u001b[0;34m.\u001b[0m\u001b[0m_output\u001b[0m\u001b[0;34m.\u001b[0m\u001b[0mextend\u001b[0m\u001b[0;34m(\u001b[0m\u001b[0mjob\u001b[0m\u001b[0;34m.\u001b[0m\u001b[0mget\u001b[0m\u001b[0;34m(\u001b[0m\u001b[0mtimeout\u001b[0m\u001b[0;34m=\u001b[0m\u001b[0mself\u001b[0m\u001b[0;34m.\u001b[0m\u001b[0mtimeout\u001b[0m\u001b[0;34m)\u001b[0m\u001b[0;34m)\u001b[0m\u001b[0;34m\u001b[0m\u001b[0;34m\u001b[0m\u001b[0m\n\u001b[0m\u001b[1;32m    934\u001b[0m                 \u001b[0;32melse\u001b[0m\u001b[0;34m:\u001b[0m\u001b[0;34m\u001b[0m\u001b[0;34m\u001b[0m\u001b[0m\n\u001b[1;32m    935\u001b[0m                     \u001b[0mself\u001b[0m\u001b[0;34m.\u001b[0m\u001b[0m_output\u001b[0m\u001b[0;34m.\u001b[0m\u001b[0mextend\u001b[0m\u001b[0;34m(\u001b[0m\u001b[0mjob\u001b[0m\u001b[0;34m.\u001b[0m\u001b[0mget\u001b[0m\u001b[0;34m(\u001b[0m\u001b[0;34m)\u001b[0m\u001b[0;34m)\u001b[0m\u001b[0;34m\u001b[0m\u001b[0;34m\u001b[0m\u001b[0m\n",
      "\u001b[0;32m~/opt/anaconda3/envs/main3.9/lib/python3.9/site-packages/joblib/_parallel_backends.py\u001b[0m in \u001b[0;36mwrap_future_result\u001b[0;34m(future, timeout)\u001b[0m\n\u001b[1;32m    540\u001b[0m         AsyncResults.get from multiprocessing.\"\"\"\n\u001b[1;32m    541\u001b[0m         \u001b[0;32mtry\u001b[0m\u001b[0;34m:\u001b[0m\u001b[0;34m\u001b[0m\u001b[0;34m\u001b[0m\u001b[0m\n\u001b[0;32m--> 542\u001b[0;31m             \u001b[0;32mreturn\u001b[0m \u001b[0mfuture\u001b[0m\u001b[0;34m.\u001b[0m\u001b[0mresult\u001b[0m\u001b[0;34m(\u001b[0m\u001b[0mtimeout\u001b[0m\u001b[0;34m=\u001b[0m\u001b[0mtimeout\u001b[0m\u001b[0;34m)\u001b[0m\u001b[0;34m\u001b[0m\u001b[0;34m\u001b[0m\u001b[0m\n\u001b[0m\u001b[1;32m    543\u001b[0m         \u001b[0;32mexcept\u001b[0m \u001b[0mCfTimeoutError\u001b[0m \u001b[0;32mas\u001b[0m \u001b[0me\u001b[0m\u001b[0;34m:\u001b[0m\u001b[0;34m\u001b[0m\u001b[0;34m\u001b[0m\u001b[0m\n\u001b[1;32m    544\u001b[0m             \u001b[0;32mraise\u001b[0m \u001b[0mTimeoutError\u001b[0m \u001b[0;32mfrom\u001b[0m \u001b[0me\u001b[0m\u001b[0;34m\u001b[0m\u001b[0;34m\u001b[0m\u001b[0m\n",
      "\u001b[0;32m~/opt/anaconda3/envs/main3.9/lib/python3.9/concurrent/futures/_base.py\u001b[0m in \u001b[0;36mresult\u001b[0;34m(self, timeout)\u001b[0m\n\u001b[1;32m    438\u001b[0m                     \u001b[0;32mreturn\u001b[0m \u001b[0mself\u001b[0m\u001b[0;34m.\u001b[0m\u001b[0m__get_result\u001b[0m\u001b[0;34m(\u001b[0m\u001b[0;34m)\u001b[0m\u001b[0;34m\u001b[0m\u001b[0;34m\u001b[0m\u001b[0m\n\u001b[1;32m    439\u001b[0m \u001b[0;34m\u001b[0m\u001b[0m\n\u001b[0;32m--> 440\u001b[0;31m                 \u001b[0mself\u001b[0m\u001b[0;34m.\u001b[0m\u001b[0m_condition\u001b[0m\u001b[0;34m.\u001b[0m\u001b[0mwait\u001b[0m\u001b[0;34m(\u001b[0m\u001b[0mtimeout\u001b[0m\u001b[0;34m)\u001b[0m\u001b[0;34m\u001b[0m\u001b[0;34m\u001b[0m\u001b[0m\n\u001b[0m\u001b[1;32m    441\u001b[0m \u001b[0;34m\u001b[0m\u001b[0m\n\u001b[1;32m    442\u001b[0m                 \u001b[0;32mif\u001b[0m \u001b[0mself\u001b[0m\u001b[0;34m.\u001b[0m\u001b[0m_state\u001b[0m \u001b[0;32min\u001b[0m \u001b[0;34m[\u001b[0m\u001b[0mCANCELLED\u001b[0m\u001b[0;34m,\u001b[0m \u001b[0mCANCELLED_AND_NOTIFIED\u001b[0m\u001b[0;34m]\u001b[0m\u001b[0;34m:\u001b[0m\u001b[0;34m\u001b[0m\u001b[0;34m\u001b[0m\u001b[0m\n",
      "\u001b[0;32m~/opt/anaconda3/envs/main3.9/lib/python3.9/threading.py\u001b[0m in \u001b[0;36mwait\u001b[0;34m(self, timeout)\u001b[0m\n\u001b[1;32m    310\u001b[0m         \u001b[0;32mtry\u001b[0m\u001b[0;34m:\u001b[0m    \u001b[0;31m# restore state no matter what (e.g., KeyboardInterrupt)\u001b[0m\u001b[0;34m\u001b[0m\u001b[0;34m\u001b[0m\u001b[0m\n\u001b[1;32m    311\u001b[0m             \u001b[0;32mif\u001b[0m \u001b[0mtimeout\u001b[0m \u001b[0;32mis\u001b[0m \u001b[0;32mNone\u001b[0m\u001b[0;34m:\u001b[0m\u001b[0;34m\u001b[0m\u001b[0;34m\u001b[0m\u001b[0m\n\u001b[0;32m--> 312\u001b[0;31m                 \u001b[0mwaiter\u001b[0m\u001b[0;34m.\u001b[0m\u001b[0macquire\u001b[0m\u001b[0;34m(\u001b[0m\u001b[0;34m)\u001b[0m\u001b[0;34m\u001b[0m\u001b[0;34m\u001b[0m\u001b[0m\n\u001b[0m\u001b[1;32m    313\u001b[0m                 \u001b[0mgotit\u001b[0m \u001b[0;34m=\u001b[0m \u001b[0;32mTrue\u001b[0m\u001b[0;34m\u001b[0m\u001b[0;34m\u001b[0m\u001b[0m\n\u001b[1;32m    314\u001b[0m             \u001b[0;32melse\u001b[0m\u001b[0;34m:\u001b[0m\u001b[0;34m\u001b[0m\u001b[0;34m\u001b[0m\u001b[0m\n",
      "\u001b[0;31mKeyboardInterrupt\u001b[0m: "
     ]
    }
   ],
   "source": [
    "# Train all missing models\n",
    "args_list = list(load_args(base_args=default_args, custom_prod=custom_product(h_list=hs, loss_type_list=methods)))\n",
    "_ = Parallel(n_jobs=-1, verbose=True)(delayed(train_if_missing)(args) for args in args_list)"
   ]
  },
  {
   "cell_type": "markdown",
   "id": "b858c646",
   "metadata": {},
   "source": [
    "## Outsource some of the calculations before plotting"
   ]
  },
  {
   "cell_type": "code",
   "execution_count": 4,
   "id": "bd71e8f2",
   "metadata": {},
   "outputs": [],
   "source": [
    "def calc_herr(base_args, corrected=False):\n",
    "    errors = []\n",
    "    for h in hs:\n",
    "        args = base_args | {'h': h}\n",
    "\n",
    "        # Only requires name, loss-type, h, noise (to locate the .tar file)\n",
    "        args = setup(args)\n",
    "        \n",
    "        # Loads the model and (re)loads all arguments as initially saved after training\n",
    "        model, args = HNN.load(args)\n",
    "        \n",
    "        if corrected:\n",
    "            scheme = choose_scheme(args.loss_type)(args)\n",
    "            model = CorrectedHNN.get(hnn, scheme, h)\n",
    "            \n",
    "        # Get the data loader to compare to the true values\n",
    "        data_loader = args.data_class(args.h, args.noise)\n",
    "        \n",
    "        # Hamiltonian Error on the meshgrid spanned by P and Q\n",
    "        P, Q, H_err = hamiltonian_error_grid(model, data_loader)\n",
    "        H_err = H_err.flatten()  # We are not interested in the structure for now.\n",
    "        \n",
    "        # Calculate mean and standard deviation (TODO: could also change to quartiles)\n",
    "        mean, std = np.abs(H_err).mean(), np.abs(H_err).std()\n",
    "        errors.append((mean, std))\n",
    "    \n",
    "    return np.array(errors)\n",
    "\n",
    "def plot_herr(axes, args):\n",
    "    # Plot grey guides of y = px, indicating errors of order p \n",
    "    axes.loglog(hs, hs, '--', color='lightgrey', label=r'$\\varepsilon = h$')  # p = 1\n",
    "    axes.loglog(hs, hs**2, '--', color='lightgrey', label=r'$\\varepsilon = h^2$')  # p = 2\n",
    "    \n",
    "    # Plot errors for each method\n",
    "    for method in methods:\n",
    "        err = calc_herr(args | {'loss_type': method})\n",
    "        axes.errorbar(hs, err[:, 0], yerr=err[:, 1], fmt='o-',\n",
    "                      label=r'$\\varepsilon_H$ for ' + print_method[method])\n",
    "    \n",
    "    # Plot errors for the corrected symplectic Euler\n",
    "    err = calc_herr(args | {'loss_type': 'symp-euler'}, corrected=True)\n",
    "    axes.errorbar(hs, err[:, 0], yerr=err[:, 1], fmt='o-',\n",
    "                  label=r'$\\varepsilon_H$ for corrected ' + print_method['symp-euler'])\n",
    "\n",
    "    axes.set_xlabel(\"Discretization Step $h$\")  # possible kwargs: fontsize=14\n",
    "    axes.set_ylabel(r\"print_name $\\varepsilon$\")  # possible kwargs: rotation=0, fontsize=14\n",
    "    axes.set_title(f\"{print_name[args.name]}: Hamiltonian Error \\n (over the relevant phase space region)\", pad=10)\n",
    "    \n",
    "    legend = axes.legend()\n",
    "    legend.get_frame().set_facecolor('0.9')\n",
    "    legend.get_frame().set_egdecolor('C0')"
   ]
  },
  {
   "cell_type": "markdown",
   "id": "8d9f521a",
   "metadata": {},
   "source": [
    "## Start Plotting Code"
   ]
  },
  {
   "cell_type": "code",
   "execution_count": 5,
   "id": "4e144d4c",
   "metadata": {},
   "outputs": [],
   "source": [
    "# Configure MPL parameters (taken from https://github.com/jbmouret/matplotlib_for_papers)\n",
    "\n",
    "golden_ratio = (5**.5 - 1) / 2\n",
    "params = {\n",
    "    # Use the golden ratio to make plots aesthetically pleasing \n",
    "    'figure.figsize': [4.5, 4.5*golden_ratio],    \n",
    "    # Use LaTeX to write all text\n",
    "    \"text.usetex\": True,\n",
    "    \"font.family\": \"serif\",\n",
    "    # Use 10pt font in plots, to match 10pt font in document\n",
    "    \"axes.labelsize\": 10,\n",
    "    \"font.size\": 10,\n",
    "    # Make the legend/label fonts a little smaller\n",
    "    \"legend.fontsize\": 8,\n",
    "    \"xtick.labelsize\": 8,\n",
    "    \"ytick.labelsize\": 8\n",
    "}\n",
    "\n",
    "mpl.rcParams.update(params)"
   ]
  },
  {
   "cell_type": "code",
   "execution_count": 6,
   "id": "eb9cbb06",
   "metadata": {},
   "outputs": [
    {
     "data": {
      "text/plain": [
       "array([[0.38184143, 0.29524213],\n",
       "       [0.20095246, 0.16547088],\n",
       "       [0.10230958, 0.08560424],\n",
       "       [0.05430942, 0.04293278],\n",
       "       [0.02581306, 0.02162822]])"
      ]
     },
     "execution_count": 6,
     "metadata": {},
     "output_type": "execute_result"
    }
   ],
   "source": [
    "# TESTING: The below needs only one method (but all h's) for one problem\n",
    "calc_herr(default_args | {'loss_type': 'euler-symp'})"
   ]
  },
  {
   "cell_type": "code",
   "execution_count": 60,
   "id": "3f10bbcd",
   "metadata": {},
   "outputs": [
    {
     "ename": "FileNotFoundError",
     "evalue": "[Errno 2] No such file or directory: '/Users/marco/Documents/-m1s2/stage-code/experiment-pendulum/pendulum-h0.8-euler-forw.tar'",
     "output_type": "error",
     "traceback": [
      "\u001b[0;31m---------------------------------------------------------------------------\u001b[0m",
      "\u001b[0;31mFileNotFoundError\u001b[0m                         Traceback (most recent call last)",
      "\u001b[0;32m<ipython-input-60-7768a9ff7683>\u001b[0m in \u001b[0;36m<module>\u001b[0;34m\u001b[0m\n\u001b[1;32m      1\u001b[0m \u001b[0;31m# TESTING: The below needs all methods for one problem\u001b[0m\u001b[0;34m\u001b[0m\u001b[0;34m\u001b[0m\u001b[0;34m\u001b[0m\u001b[0m\n\u001b[0;32m----> 2\u001b[0;31m \u001b[0mplot_herr\u001b[0m\u001b[0;34m(\u001b[0m\u001b[0mplt\u001b[0m\u001b[0;34m,\u001b[0m \u001b[0mdefault_args\u001b[0m\u001b[0;34m)\u001b[0m  \u001b[0;31m# default_args is for the pendulum\u001b[0m\u001b[0;34m\u001b[0m\u001b[0;34m\u001b[0m\u001b[0m\n\u001b[0m\u001b[1;32m      3\u001b[0m \u001b[0mplt\u001b[0m\u001b[0;34m.\u001b[0m\u001b[0mshow\u001b[0m\u001b[0;34m(\u001b[0m\u001b[0;34m)\u001b[0m\u001b[0;34m\u001b[0m\u001b[0;34m\u001b[0m\u001b[0m\n",
      "\u001b[0;32m<ipython-input-50-f330f79eaad1>\u001b[0m in \u001b[0;36mplot_herr\u001b[0;34m(axes, args)\u001b[0m\n\u001b[1;32m     36\u001b[0m     \u001b[0;32mfor\u001b[0m \u001b[0mmethod\u001b[0m \u001b[0;32min\u001b[0m \u001b[0mmethods\u001b[0m\u001b[0;34m:\u001b[0m\u001b[0;34m\u001b[0m\u001b[0;34m\u001b[0m\u001b[0m\n\u001b[1;32m     37\u001b[0m         \u001b[0mthis_args\u001b[0m \u001b[0;34m=\u001b[0m \u001b[0margs\u001b[0m \u001b[0;34m|\u001b[0m \u001b[0;34m{\u001b[0m\u001b[0;34m'loss_type'\u001b[0m\u001b[0;34m:\u001b[0m \u001b[0mmethod\u001b[0m\u001b[0;34m}\u001b[0m\u001b[0;34m\u001b[0m\u001b[0;34m\u001b[0m\u001b[0m\n\u001b[0;32m---> 38\u001b[0;31m         \u001b[0merr\u001b[0m \u001b[0;34m=\u001b[0m \u001b[0mcalc_herr\u001b[0m\u001b[0;34m(\u001b[0m\u001b[0mthis_args\u001b[0m\u001b[0;34m)\u001b[0m\u001b[0;34m\u001b[0m\u001b[0;34m\u001b[0m\u001b[0m\n\u001b[0m\u001b[1;32m     39\u001b[0m         axes.errorbar(hs, err[:, 0], yerr=err[:, 1], fmt='o-',\n\u001b[1;32m     40\u001b[0m                       label=r'$\\varepsilon_H$ for ' + print_method[method])\n",
      "\u001b[0;32m<ipython-input-50-f330f79eaad1>\u001b[0m in \u001b[0;36mcalc_herr\u001b[0;34m(args, corrected)\u001b[0m\n\u001b[1;32m      8\u001b[0m \u001b[0;34m\u001b[0m\u001b[0m\n\u001b[1;32m      9\u001b[0m         \u001b[0;31m# Loads the model and (re)loads all arguments as initially saved after training\u001b[0m\u001b[0;34m\u001b[0m\u001b[0;34m\u001b[0m\u001b[0;34m\u001b[0m\u001b[0m\n\u001b[0;32m---> 10\u001b[0;31m         \u001b[0mmodel\u001b[0m\u001b[0;34m,\u001b[0m \u001b[0margs\u001b[0m \u001b[0;34m=\u001b[0m \u001b[0mHNN\u001b[0m\u001b[0;34m.\u001b[0m\u001b[0mload\u001b[0m\u001b[0;34m(\u001b[0m\u001b[0margs\u001b[0m\u001b[0;34m)\u001b[0m\u001b[0;34m\u001b[0m\u001b[0;34m\u001b[0m\u001b[0m\n\u001b[0m\u001b[1;32m     11\u001b[0m \u001b[0;34m\u001b[0m\u001b[0m\n\u001b[1;32m     12\u001b[0m         \u001b[0;32mif\u001b[0m \u001b[0mcorrected\u001b[0m\u001b[0;34m:\u001b[0m\u001b[0;34m\u001b[0m\u001b[0;34m\u001b[0m\u001b[0m\n",
      "\u001b[0;32m~/Documents/-m1s2/stage-code/model/hnn.py\u001b[0m in \u001b[0;36mload\u001b[0;34m(args)\u001b[0m\n\u001b[1;32m     31\u001b[0m     \u001b[0;34m@\u001b[0m\u001b[0mstaticmethod\u001b[0m\u001b[0;34m\u001b[0m\u001b[0;34m\u001b[0m\u001b[0m\n\u001b[1;32m     32\u001b[0m     \u001b[0;32mdef\u001b[0m \u001b[0mload\u001b[0m\u001b[0;34m(\u001b[0m\u001b[0margs\u001b[0m\u001b[0;34m)\u001b[0m\u001b[0;34m:\u001b[0m\u001b[0;34m\u001b[0m\u001b[0;34m\u001b[0m\u001b[0m\n\u001b[0;32m---> 33\u001b[0;31m         \u001b[0msaved_dict\u001b[0m \u001b[0;34m=\u001b[0m \u001b[0mtorch\u001b[0m\u001b[0;34m.\u001b[0m\u001b[0mload\u001b[0m\u001b[0;34m(\u001b[0m\u001b[0msave_path\u001b[0m\u001b[0;34m(\u001b[0m\u001b[0margs\u001b[0m\u001b[0;34m)\u001b[0m\u001b[0;34m)\u001b[0m\u001b[0;34m\u001b[0m\u001b[0;34m\u001b[0m\u001b[0m\n\u001b[0m\u001b[1;32m     34\u001b[0m         \u001b[0margs\u001b[0m \u001b[0;34m=\u001b[0m \u001b[0msaved_dict\u001b[0m\u001b[0;34m[\u001b[0m\u001b[0;34m'args'\u001b[0m\u001b[0;34m]\u001b[0m  \u001b[0;31m# Loads all other arguments as saved initially when the model was trained\u001b[0m\u001b[0;34m\u001b[0m\u001b[0;34m\u001b[0m\u001b[0m\n\u001b[1;32m     35\u001b[0m \u001b[0;34m\u001b[0m\u001b[0m\n",
      "\u001b[0;32m~/opt/anaconda3/envs/main3.9/lib/python3.9/site-packages/torch/serialization.py\u001b[0m in \u001b[0;36mload\u001b[0;34m(f, map_location, pickle_module, **pickle_load_args)\u001b[0m\n\u001b[1;32m    577\u001b[0m         \u001b[0mpickle_load_args\u001b[0m\u001b[0;34m[\u001b[0m\u001b[0;34m'encoding'\u001b[0m\u001b[0;34m]\u001b[0m \u001b[0;34m=\u001b[0m \u001b[0;34m'utf-8'\u001b[0m\u001b[0;34m\u001b[0m\u001b[0;34m\u001b[0m\u001b[0m\n\u001b[1;32m    578\u001b[0m \u001b[0;34m\u001b[0m\u001b[0m\n\u001b[0;32m--> 579\u001b[0;31m     \u001b[0;32mwith\u001b[0m \u001b[0m_open_file_like\u001b[0m\u001b[0;34m(\u001b[0m\u001b[0mf\u001b[0m\u001b[0;34m,\u001b[0m \u001b[0;34m'rb'\u001b[0m\u001b[0;34m)\u001b[0m \u001b[0;32mas\u001b[0m \u001b[0mopened_file\u001b[0m\u001b[0;34m:\u001b[0m\u001b[0;34m\u001b[0m\u001b[0;34m\u001b[0m\u001b[0m\n\u001b[0m\u001b[1;32m    580\u001b[0m         \u001b[0;32mif\u001b[0m \u001b[0m_is_zipfile\u001b[0m\u001b[0;34m(\u001b[0m\u001b[0mopened_file\u001b[0m\u001b[0;34m)\u001b[0m\u001b[0;34m:\u001b[0m\u001b[0;34m\u001b[0m\u001b[0;34m\u001b[0m\u001b[0m\n\u001b[1;32m    581\u001b[0m             \u001b[0;31m# The zipfile reader is going to advance the current file position.\u001b[0m\u001b[0;34m\u001b[0m\u001b[0;34m\u001b[0m\u001b[0;34m\u001b[0m\u001b[0m\n",
      "\u001b[0;32m~/opt/anaconda3/envs/main3.9/lib/python3.9/site-packages/torch/serialization.py\u001b[0m in \u001b[0;36m_open_file_like\u001b[0;34m(name_or_buffer, mode)\u001b[0m\n\u001b[1;32m    228\u001b[0m \u001b[0;32mdef\u001b[0m \u001b[0m_open_file_like\u001b[0m\u001b[0;34m(\u001b[0m\u001b[0mname_or_buffer\u001b[0m\u001b[0;34m,\u001b[0m \u001b[0mmode\u001b[0m\u001b[0;34m)\u001b[0m\u001b[0;34m:\u001b[0m\u001b[0;34m\u001b[0m\u001b[0;34m\u001b[0m\u001b[0m\n\u001b[1;32m    229\u001b[0m     \u001b[0;32mif\u001b[0m \u001b[0m_is_path\u001b[0m\u001b[0;34m(\u001b[0m\u001b[0mname_or_buffer\u001b[0m\u001b[0;34m)\u001b[0m\u001b[0;34m:\u001b[0m\u001b[0;34m\u001b[0m\u001b[0;34m\u001b[0m\u001b[0m\n\u001b[0;32m--> 230\u001b[0;31m         \u001b[0;32mreturn\u001b[0m \u001b[0m_open_file\u001b[0m\u001b[0;34m(\u001b[0m\u001b[0mname_or_buffer\u001b[0m\u001b[0;34m,\u001b[0m \u001b[0mmode\u001b[0m\u001b[0;34m)\u001b[0m\u001b[0;34m\u001b[0m\u001b[0;34m\u001b[0m\u001b[0m\n\u001b[0m\u001b[1;32m    231\u001b[0m     \u001b[0;32melse\u001b[0m\u001b[0;34m:\u001b[0m\u001b[0;34m\u001b[0m\u001b[0;34m\u001b[0m\u001b[0m\n\u001b[1;32m    232\u001b[0m         \u001b[0;32mif\u001b[0m \u001b[0;34m'w'\u001b[0m \u001b[0;32min\u001b[0m \u001b[0mmode\u001b[0m\u001b[0;34m:\u001b[0m\u001b[0;34m\u001b[0m\u001b[0;34m\u001b[0m\u001b[0m\n",
      "\u001b[0;32m~/opt/anaconda3/envs/main3.9/lib/python3.9/site-packages/torch/serialization.py\u001b[0m in \u001b[0;36m__init__\u001b[0;34m(self, name, mode)\u001b[0m\n\u001b[1;32m    209\u001b[0m \u001b[0;32mclass\u001b[0m \u001b[0m_open_file\u001b[0m\u001b[0;34m(\u001b[0m\u001b[0m_opener\u001b[0m\u001b[0;34m)\u001b[0m\u001b[0;34m:\u001b[0m\u001b[0;34m\u001b[0m\u001b[0;34m\u001b[0m\u001b[0m\n\u001b[1;32m    210\u001b[0m     \u001b[0;32mdef\u001b[0m \u001b[0m__init__\u001b[0m\u001b[0;34m(\u001b[0m\u001b[0mself\u001b[0m\u001b[0;34m,\u001b[0m \u001b[0mname\u001b[0m\u001b[0;34m,\u001b[0m \u001b[0mmode\u001b[0m\u001b[0;34m)\u001b[0m\u001b[0;34m:\u001b[0m\u001b[0;34m\u001b[0m\u001b[0;34m\u001b[0m\u001b[0m\n\u001b[0;32m--> 211\u001b[0;31m         \u001b[0msuper\u001b[0m\u001b[0;34m(\u001b[0m\u001b[0m_open_file\u001b[0m\u001b[0;34m,\u001b[0m \u001b[0mself\u001b[0m\u001b[0;34m)\u001b[0m\u001b[0;34m.\u001b[0m\u001b[0m__init__\u001b[0m\u001b[0;34m(\u001b[0m\u001b[0mopen\u001b[0m\u001b[0;34m(\u001b[0m\u001b[0mname\u001b[0m\u001b[0;34m,\u001b[0m \u001b[0mmode\u001b[0m\u001b[0;34m)\u001b[0m\u001b[0;34m)\u001b[0m\u001b[0;34m\u001b[0m\u001b[0;34m\u001b[0m\u001b[0m\n\u001b[0m\u001b[1;32m    212\u001b[0m \u001b[0;34m\u001b[0m\u001b[0m\n\u001b[1;32m    213\u001b[0m     \u001b[0;32mdef\u001b[0m \u001b[0m__exit__\u001b[0m\u001b[0;34m(\u001b[0m\u001b[0mself\u001b[0m\u001b[0;34m,\u001b[0m \u001b[0;34m*\u001b[0m\u001b[0margs\u001b[0m\u001b[0;34m)\u001b[0m\u001b[0;34m:\u001b[0m\u001b[0;34m\u001b[0m\u001b[0;34m\u001b[0m\u001b[0m\n",
      "\u001b[0;31mFileNotFoundError\u001b[0m: [Errno 2] No such file or directory: '/Users/marco/Documents/-m1s2/stage-code/experiment-pendulum/pendulum-h0.8-euler-forw.tar'"
     ]
    }
   ],
   "source": [
    "# TESTING: The below needs all methods for one problem\n",
    "plot_herr(plt, default_args)  # default_args is for the pendulum\n",
    "plt.show()"
   ]
  },
  {
   "cell_type": "code",
   "execution_count": null,
   "id": "07608482",
   "metadata": {},
   "outputs": [],
   "source": []
  },
  {
   "cell_type": "code",
   "execution_count": 59,
   "id": "4210574b",
   "metadata": {},
   "outputs": [
    {
     "ename": "NameError",
     "evalue": "name 'FILENAME' is not defined",
     "output_type": "error",
     "traceback": [
      "\u001b[0;31m---------------------------------------------------------------------------\u001b[0m",
      "\u001b[0;31mNameError\u001b[0m                                 Traceback (most recent call last)",
      "\u001b[0;32m<ipython-input-59-1a9368cfa560>\u001b[0m in \u001b[0;36m<module>\u001b[0;34m\u001b[0m\n\u001b[1;32m      3\u001b[0m \u001b[0;31m# TODO\u001b[0m\u001b[0;34m\u001b[0m\u001b[0;34m\u001b[0m\u001b[0;34m\u001b[0m\u001b[0m\n\u001b[1;32m      4\u001b[0m \u001b[0;34m\u001b[0m\u001b[0m\n\u001b[0;32m----> 5\u001b[0;31m \u001b[0mfig\u001b[0m\u001b[0;34m.\u001b[0m\u001b[0msavefig\u001b[0m\u001b[0;34m(\u001b[0m\u001b[0mFILENAME\u001b[0m\u001b[0;34m,\u001b[0m \u001b[0mformat\u001b[0m\u001b[0;34m=\u001b[0m\u001b[0;34m'pdf'\u001b[0m\u001b[0;34m,\u001b[0m \u001b[0mbbox_inches\u001b[0m\u001b[0;34m=\u001b[0m\u001b[0;34m'tight'\u001b[0m\u001b[0;34m)\u001b[0m\u001b[0;34m\u001b[0m\u001b[0;34m\u001b[0m\u001b[0m\n\u001b[0m",
      "\u001b[0;31mNameError\u001b[0m: name 'FILENAME' is not defined"
     ]
    }
   ],
   "source": [
    "fig = plt.figure()  # kwargs: dpi=300, facecolor='white'\n",
    "\n",
    "# TODO\n",
    "\n",
    "fig.savefig(FILENAME, format='pdf', bbox_inches='tight')"
   ]
  },
  {
   "cell_type": "markdown",
   "id": "32e63868",
   "metadata": {},
   "source": [
    "## Old code\n",
    "\n",
    "Used to also plot Hamiltonian error landscape in phase space, for 2D systems like spring/pendulum."
   ]
  },
  {
   "cell_type": "code",
   "execution_count": null,
   "id": "d16f248c",
   "metadata": {},
   "outputs": [],
   "source": [
    "t_span = (0, 300)\n",
    "t_eval = get_t_eval(t_span, args.h)\n",
    "\n",
    "# Use RK45 with rtol of 1e-9 to have RK45 effectively yield the true flow of a vector field \n",
    "kwargs = {'t_eval': t_eval, 'rtol': 1e-9, 'method': 'RK45'}\n",
    "\n",
    "# INTEGRATE MODEL\n",
    "static_y0 = args.data_class.static_initial_value()\n",
    "\n",
    "pred_field = get_predicted_vector_field(model, args)\n",
    "pred_traj_rk45 = integrate_model_rk45(model, t_span, static_y0, **kwargs)\n",
    "pred_traj_custom, t_custom = integrate_model_custom(model, t_span, static_y0, args)\n",
    "\n",
    "scheme = choose_scheme(args.loss_type)(args)\n",
    "corrected_model = CorrectedHNN.get(model, scheme, args.h)\n",
    "field_corrected = get_predicted_vector_field(corrected_model, args)\n",
    "pred_traj_corrected = integrate_model_rk45(corrected_model, t_span, static_y0, **kwargs)\n",
    "\n",
    "# Calculate the Hamiltonian along the trajectory\n",
    "#H = model.forward(torch.tensor(pred_traj_rk45, dtype=torch.float32)).data.numpy()\n",
    "\n",
    "# TRUE TRAJECTORY FOR REFERENCE\n",
    "data_loader = args.data_class(args.h, args.noise)\n",
    "exact_field = data_loader.get_analytic_field()\n",
    "exact_traj, _ = data_loader.get_trajectory(t_span=t_span, y0=static_y0)\n",
    "# dataset = data_loader.get_dataset(seed=args.seed, samples=3000, test_split=0.05)  # (3000, 2, 2)\n",
    "# dataset_plot(ax[2], dataset['coords'][:, 0], dataset['test_coords'][:, 0], args, \"Dataset for ...\")\n",
    "\n",
    "# Calculate the initial Hamiltonian = Hamiltonian at all times of true trajectory\n",
    "#Hy0 = data_loader.bundled_hamiltonian(static_y0)\n",
    "\n",
    "# Calculate the respective errors\n",
    "#traj_error = np.linalg.norm(pred_traj_rk45 - exact_traj, axis=1)\n",
    "#H_error = np.abs(H - Hy0)\n",
    "\n",
    "fig = plt.figure(figsize=(28, 6), facecolor='white', dpi=300)\n",
    "ax = [fig.add_subplot(1, 5, i + 1, frameon=True) for i in range(5)]  # kwarg useful sometimes: aspect='equal'\n",
    "\n",
    "title_true = f\"True Trajectory\\n (Integrated with RK45)\"\n",
    "phase_space_plot(ax[0], exact_field, exact_traj, title_true, args)\n",
    "\n",
    "title_pred = f\"Symplectic HNN: $h = {args.h}, t_f = {t_span[1]}$\\n Trained with {args.loss_type}, Integrated with RK45\"\n",
    "phase_space_plot(ax[1], pred_field, pred_traj_rk45, title_pred, args)\n",
    "\n",
    "title_custom = f\"Symplectic HNN: $h = {args.h}, t_f = {t_span[1]}$\\n Trained with {args.loss_type}, Integrated with {args.loss_type}\"\n",
    "phase_space_plot(ax[2], pred_field, pred_traj_custom, title_custom, args)\n",
    "\n",
    "title_corr = f\"Corrected Trajectory\"\n",
    "phase_space_plot(ax[3], field_corrected, pred_traj_corrected, title_corr, args)\n",
    "\n",
    "lim = len(t_eval)//3\n",
    "title_both = f\"$p$ Coordinate vs. Time \\n (Note: smaller t-interval for more clarity)\"\n",
    "axes = plt\n",
    "axes.plot(t_eval[:lim], exact_traj[:lim, 0], label='Exact')\n",
    "axes.plot(t_eval[:lim], pred_traj_rk45[:lim, 0], label='Pred RK45')\n",
    "axes.plot(t_custom[:lim], pred_traj_custom[:lim, 0], label=f'Pred {args.loss_type}')\n",
    "axes.plot(t_eval[:lim], pred_traj_corrected[:lim, 0], label='Pred Corrected')\n",
    "axes.set_xlabel(\"$t$\", fontsize=14)\n",
    "axes.set_ylabel(\"$p$\", rotation=0, fontsize=14)\n",
    "axes.legend()\n",
    "axes.set_title(title_both)\n",
    "\n",
    "#title_trajerror = f\"Deviation (norm of error) of the two trajectories \\n (Over full timespan, $t_f = {t_span[1]}$)\"\n",
    "#plot_helper(ax[3], t_eval, traj_error, title_trajerror)\n",
    "\n",
    "# TODO Eventually fix the scientific notation for the axis scale, see this question:\n",
    "#       https://stackoverflow.com/questions/42656139/set-scientific-notation-with-fixed-exponent-and-significant-digits-for-multiple\n",
    "#title3 = r\"Deviation of the Hamiltonian: $|H(y(t)) - H(y_0)|$\"\n",
    "#plot_helper(ax[3], t_eval, H_error, title3)\n",
    "\n",
    "# Old code to investigate individual\n",
    "#ax[2].plot(t_eval, exact_traj[:, 0], color='blue')\n",
    "#ax[2].plot(t_eval, pred_traj_rk45[:, 0], color='red')\n",
    "\n",
    "# SAVE FIGURE USING USUAL PATH\n",
    "plt.savefig(save_path(args, ext='pdf'))"
   ]
  }
 ],
 "metadata": {
  "kernelspec": {
   "display_name": "Python 3",
   "language": "python",
   "name": "python3"
  },
  "language_info": {
   "codemirror_mode": {
    "name": "ipython",
    "version": 3
   },
   "file_extension": ".py",
   "mimetype": "text/x-python",
   "name": "python",
   "nbconvert_exporter": "python",
   "pygments_lexer": "ipython3",
   "version": "3.9.4"
  },
  "toc": {
   "nav_menu": {},
   "number_sections": false,
   "sideBar": true,
   "skip_h1_title": true,
   "toc_cell": false,
   "toc_position": {},
   "toc_section_display": "block",
   "toc_window_display": false
  }
 },
 "nbformat": 4,
 "nbformat_minor": 5
}
