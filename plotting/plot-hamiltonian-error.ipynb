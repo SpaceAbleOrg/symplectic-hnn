{
 "cells": [
  {
   "cell_type": "code",
   "execution_count": 1,
   "id": "5028303d",
   "metadata": {},
   "outputs": [],
   "source": [
    "# If this notebook is in a subdirectory of the project's root,\n",
    "# update the PYTHONPATH to be able to import as usual\n",
    "import os, sys\n",
    "project_root = os.path.dirname(os.path.abspath(''))\n",
    "sys.path.append(project_root)"
   ]
  },
  {
   "cell_type": "code",
   "execution_count": 13,
   "id": "35de3889",
   "metadata": {},
   "outputs": [],
   "source": [
    "# Standard Imports\n",
    "import numpy as np\n",
    "import matplotlib as mpl\n",
    "from matplotlib import pyplot as plt\n",
    "from joblib import Parallel, delayed\n",
    "\n",
    "# Project Imports\n",
    "from model.data import get_t_eval\n",
    "from model.hnn import HNN, CorrectedHNN\n",
    "from model.loss import choose_scheme\n",
    "from model.args import get_args, UpdatableNamespace, custom_product\n",
    "\n",
    "from train import setup, train_if_missing\n",
    "from utils import save_path\n",
    "from integrate import integrate_model_rk45, integrate_model_custom, get_predicted_vector_field\n",
    "from compare_hamiltonian import hamiltonian_error_grid\n",
    "from parallelize import load_args"
   ]
  },
  {
   "cell_type": "code",
   "execution_count": 3,
   "id": "bfb7694c",
   "metadata": {},
   "outputs": [],
   "source": [
    "default_args = get_args(lenient=True)  # returns the default arguments, except for the non-optional argument name\n",
    "default_args = default_args | {'name': 'pendulum'}\n",
    "\n",
    "hs = np.array([0.8, 0.4, 0.2, 0.1, 0.05])\n",
    "methods = ['euler-forw', 'euler-symp', 'midpoint']\n",
    "\n",
    "print_method = {'euler-forw': \"forward Euler (HNN)\",\n",
    "                'euler-symp': \"symplectic Euler\",\n",
    "                'midpoint': \"implicit midpoint\"}\n",
    "print_name = {'spring': \"Harm. Oscillator\",\n",
    "              'pendulum': \"Pendulum\",\n",
    "              'fput': \"FPUT Problem\",\n",
    "              'twobody': \"Two-body Problem\"}"
   ]
  },
  {
   "cell_type": "code",
   "execution_count": 4,
   "id": "3d763d3e",
   "metadata": {},
   "outputs": [],
   "source": [
    "# Train all missing models (not recommended on CPU)\n",
    "#args_list = list(load_args(base_args=default_args, custom_prod=custom_product(h_list=hs, loss_type_list=methods)))\n",
    "#_ = Parallel(n_jobs=-1, verbose=True)(delayed(train_if_missing)(args, save_dir_prefix='/results/experiment-') for args in args_list)"
   ]
  },
  {
   "cell_type": "markdown",
   "id": "f2a99982",
   "metadata": {},
   "source": [
    "## Outsource some of the calculations before plotting"
   ]
  },
  {
   "cell_type": "code",
   "execution_count": 25,
   "id": "da38a818",
   "metadata": {},
   "outputs": [],
   "source": [
    "def calc_herr(base_args, corrected=False):\n",
    "    errors = []\n",
    "    for h in hs:\n",
    "        args = base_args | {'h': h}\n",
    "\n",
    "        # Only requires name, loss-type, h, noise (to locate the .tar file)\n",
    "        args = setup(args, save_dir_prefix='/results/experiment-')\n",
    "        \n",
    "        # Loads the model and (re)loads all arguments as initially saved after training\n",
    "        model, args = HNN.load(args, cpu=True)\n",
    "        \n",
    "        if corrected:\n",
    "            scheme = choose_scheme(args.loss_type)(args)\n",
    "            model = CorrectedHNN.get(model, scheme, h)\n",
    "            \n",
    "        # Get the data loader to compare to the true values\n",
    "        data_loader = args.data_class(args.h, args.noise)\n",
    "        \n",
    "        # Hamiltonian Error on the meshgrid spanned by P and Q\n",
    "        P, Q, H_err = hamiltonian_error_grid(model, data_loader)\n",
    "        H_err = H_err.flatten()  # We are not interested in the structure for now.\n",
    "        \n",
    "        # Calculate mean and standard deviation (TODO: could also change to quartiles)\n",
    "        mean, std = np.abs(H_err).mean(), np.abs(H_err).std()\n",
    "        errors.append((mean, std))\n",
    "    \n",
    "    return np.array(errors)\n",
    "\n",
    "def plot_herr(axes, args):\n",
    "    # Plot grey guides of y = px, indicating errors of order p \n",
    "    axes.loglog(hs, hs, '--', color='lightgrey', label=r'$\\\\varepsilon = h$')  # p = 1\n",
    "    axes.loglog(hs, hs**2, '--', color='lightgrey', label=r'$\\\\varepsilon = h^2$')  # p = 2\n",
    "    \n",
    "    # Plot errors for each method\n",
    "    for method in methods:\n",
    "        err = calc_herr(args | {'loss_type': method})\n",
    "        axes.errorbar(hs, err[:, 0], yerr=err[:, 1], fmt='o-',\n",
    "                      label=r'$\\\\varepsilon_H$ for ' + print_method[method])\n",
    "    \n",
    "    # Plot errors for the corrected symplectic Euler\n",
    "    err = calc_herr(args | {'loss_type': 'euler-symp'}, corrected=True)\n",
    "    axes.errorbar(hs, err[:, 0], yerr=err[:, 1], fmt='o-',\n",
    "                  label=r'$\\\\varepsilon_H$ for corrected ' + print_method['euler-symp'])\n",
    "\n",
    "    axes.set_xlabel(\"Discretization Step $h$\")  # possible kwargs: fontsize=14\n",
    "    axes.set_ylabel(\"print_name $\\varepsilon$\")  # possible kwargs: rotation=0, fontsize=14\n",
    "    axes.set_title(f\"{print_name[args.name]}: Hamiltonian Error \\n (over the relevant phase space region)\", pad=10)\n",
    "    \n",
    "    legend = axes.legend()\n",
    "    legend.get_frame().set_facecolor('0.9')  # fill the legend dark grey\n",
    "    legend.get_frame().set_linewidth(0.0)  # remove the black border"
   ]
  },
  {
   "cell_type": "markdown",
   "id": "42234138",
   "metadata": {},
   "source": [
    "## Start Plotting Code"
   ]
  },
  {
   "cell_type": "code",
   "execution_count": 26,
   "id": "f0d720df",
   "metadata": {},
   "outputs": [],
   "source": [
    "# Configure MPL parameters (taken from https://github.com/jbmouret/matplotlib_for_papers)\n",
    "\n",
    "golden_ratio = (5**.5 - 1) / 2\n",
    "params = {\n",
    "    # Use the golden ratio to make plots aesthetically pleasing \n",
    "    'figure.figsize': [4.5, 4.5*golden_ratio],    \n",
    "    # Use LaTeX to write all text\n",
    "    \"text.usetex\": True,\n",
    "    \"font.family\": \"serif\",\n",
    "    # Use 10pt font in plots, to match 10pt font in document\n",
    "    \"axes.labelsize\": 10,\n",
    "    \"font.size\": 10,\n",
    "    # Make the legend/label fonts a little smaller\n",
    "    \"legend.fontsize\": 8,\n",
    "    \"xtick.labelsize\": 8,\n",
    "    \"ytick.labelsize\": 8\n",
    "}\n",
    "\n",
    "mpl.rcParams.update(params)"
   ]
  },
  {
   "cell_type": "code",
   "execution_count": 27,
   "id": "af3e6f5c",
   "metadata": {},
   "outputs": [
    {
     "name": "stdout",
     "output_type": "stream",
     "text": [
      "/Users/marco/Documents/-m1s2/stage-code/results/experiment-pendulum\n",
      "/Users/marco/Documents/-m1s2/stage-code/results/experiment-pendulum\n",
      "/Users/marco/Documents/-m1s2/stage-code/results/experiment-pendulum\n",
      "/Users/marco/Documents/-m1s2/stage-code/results/experiment-pendulum\n",
      "/Users/marco/Documents/-m1s2/stage-code/results/experiment-pendulum\n"
     ]
    },
    {
     "data": {
      "text/plain": [
       "array([[0.38138021, 0.29454849],\n",
       "       [0.20112052, 0.16440666],\n",
       "       [0.10109759, 0.08493726],\n",
       "       [0.05077484, 0.04288488],\n",
       "       [0.02573452, 0.0215208 ]])"
      ]
     },
     "execution_count": 27,
     "metadata": {},
     "output_type": "execute_result"
    }
   ],
   "source": [
    "# TESTING: The below needs only one method (but all h's) for one problem\n",
    "calc_herr(default_args | {'loss_type': 'euler-symp'})"
   ]
  },
  {
   "cell_type": "code",
   "execution_count": 28,
   "id": "9298785a",
   "metadata": {},
   "outputs": [
    {
     "name": "stdout",
     "output_type": "stream",
     "text": [
      "/Users/marco/Documents/-m1s2/stage-code/results/experiment-pendulum\n",
      "/Users/marco/Documents/-m1s2/stage-code/results/experiment-pendulum\n",
      "/Users/marco/Documents/-m1s2/stage-code/results/experiment-pendulum\n",
      "/Users/marco/Documents/-m1s2/stage-code/results/experiment-pendulum\n",
      "/Users/marco/Documents/-m1s2/stage-code/results/experiment-pendulum\n",
      "/Users/marco/Documents/-m1s2/stage-code/results/experiment-pendulum\n",
      "/Users/marco/Documents/-m1s2/stage-code/results/experiment-pendulum\n",
      "/Users/marco/Documents/-m1s2/stage-code/results/experiment-pendulum\n",
      "/Users/marco/Documents/-m1s2/stage-code/results/experiment-pendulum\n",
      "/Users/marco/Documents/-m1s2/stage-code/results/experiment-pendulum\n",
      "/Users/marco/Documents/-m1s2/stage-code/results/experiment-pendulum\n",
      "/Users/marco/Documents/-m1s2/stage-code/results/experiment-pendulum\n",
      "/Users/marco/Documents/-m1s2/stage-code/results/experiment-pendulum\n",
      "/Users/marco/Documents/-m1s2/stage-code/results/experiment-pendulum\n",
      "/Users/marco/Documents/-m1s2/stage-code/results/experiment-pendulum\n",
      "/Users/marco/Documents/-m1s2/stage-code/results/experiment-pendulum\n",
      "/Users/marco/Documents/-m1s2/stage-code/results/experiment-pendulum\n",
      "/Users/marco/Documents/-m1s2/stage-code/results/experiment-pendulum\n",
      "/Users/marco/Documents/-m1s2/stage-code/results/experiment-pendulum\n",
      "/Users/marco/Documents/-m1s2/stage-code/results/experiment-pendulum\n"
     ]
    },
    {
     "ename": "RuntimeError",
     "evalue": "latex was not able to process the following string:\nb'print_name $\\\\x0barepsilon$'\n\nHere is the full report generated by latex:\nThis is pdfTeX, Version 3.14159265-2.6-1.40.18 (TeX Live 2017) (preloaded format=latex)\n restricted \\write18 enabled.\nentering extended mode\n(/Users/marco/.matplotlib/tex.cache/f327170d46b807e75907721f3dfe1823.tex\nLaTeX2e <2017-04-15>\nBabel <3.10> and hyphenation patterns for 84 language(s) loaded.\n(/usr/local/texlive/2017/texmf-dist/tex/latex/base/article.cls\nDocument Class: article 2014/09/29 v1.4h Standard LaTeX document class\n(/usr/local/texlive/2017/texmf-dist/tex/latex/base/size10.clo))\n(/usr/local/texlive/2017/texmf-dist/tex/latex/type1cm/type1cm.sty)\n(/usr/local/texlive/2017/texmf-dist/tex/latex/cm-super/type1ec.sty\n(/usr/local/texlive/2017/texmf-dist/tex/latex/base/t1cmr.fd))\n(/usr/local/texlive/2017/texmf-dist/tex/latex/base/inputenc.sty\n(/usr/local/texlive/2017/texmf-dist/tex/latex/base/utf8.def\n(/usr/local/texlive/2017/texmf-dist/tex/latex/base/t1enc.dfu)\n(/usr/local/texlive/2017/texmf-dist/tex/latex/base/ot1enc.dfu)\n(/usr/local/texlive/2017/texmf-dist/tex/latex/base/omsenc.dfu)))\n(/usr/local/texlive/2017/texmf-dist/tex/latex/geometry/geometry.sty\n(/usr/local/texlive/2017/texmf-dist/tex/latex/graphics/keyval.sty)\n(/usr/local/texlive/2017/texmf-dist/tex/generic/oberdiek/ifpdf.sty)\n(/usr/local/texlive/2017/texmf-dist/tex/generic/oberdiek/ifvtex.sty)\n(/usr/local/texlive/2017/texmf-dist/tex/generic/ifxetex/ifxetex.sty))\n(/usr/local/texlive/2017/texmf-dist/tex/latex/base/textcomp.sty\n(/usr/local/texlive/2017/texmf-dist/tex/latex/base/ts1enc.def\n(/usr/local/texlive/2017/texmf-dist/tex/latex/base/ts1enc.dfu)))\nNo file f327170d46b807e75907721f3dfe1823.aux.\n(/usr/local/texlive/2017/texmf-dist/tex/latex/base/ts1cmr.fd)\n*geometry* driver: auto-detecting\n*geometry* detected driver: dvips\n! Missing $ inserted.\n<inserted text> \n                $\nl.19 {\\rmfamily print_\n                      name $\u000barepsilon$}\nNo pages of output.\nTranscript written on f327170d46b807e75907721f3dfe1823.log.\n\n\n",
     "output_type": "error",
     "traceback": [
      "\u001b[0;31m---------------------------------------------------------------------------\u001b[0m",
      "\u001b[0;31mCalledProcessError\u001b[0m                        Traceback (most recent call last)",
      "\u001b[0;32m~/opt/anaconda3/envs/main3.9/lib/python3.9/site-packages/matplotlib/texmanager.py\u001b[0m in \u001b[0;36m_run_checked_subprocess\u001b[0;34m(self, command, tex, cwd)\u001b[0m\n\u001b[1;32m    251\u001b[0m         \u001b[0;32mtry\u001b[0m\u001b[0;34m:\u001b[0m\u001b[0;34m\u001b[0m\u001b[0;34m\u001b[0m\u001b[0m\n\u001b[0;32m--> 252\u001b[0;31m             report = subprocess.check_output(\n\u001b[0m\u001b[1;32m    253\u001b[0m                 \u001b[0mcommand\u001b[0m\u001b[0;34m,\u001b[0m \u001b[0mcwd\u001b[0m\u001b[0;34m=\u001b[0m\u001b[0mcwd\u001b[0m \u001b[0;32mif\u001b[0m \u001b[0mcwd\u001b[0m \u001b[0;32mis\u001b[0m \u001b[0;32mnot\u001b[0m \u001b[0;32mNone\u001b[0m \u001b[0;32melse\u001b[0m \u001b[0mself\u001b[0m\u001b[0;34m.\u001b[0m\u001b[0mtexcache\u001b[0m\u001b[0;34m,\u001b[0m\u001b[0;34m\u001b[0m\u001b[0;34m\u001b[0m\u001b[0m\n",
      "\u001b[0;32m~/opt/anaconda3/envs/main3.9/lib/python3.9/subprocess.py\u001b[0m in \u001b[0;36mcheck_output\u001b[0;34m(timeout, *popenargs, **kwargs)\u001b[0m\n\u001b[1;32m    423\u001b[0m \u001b[0;34m\u001b[0m\u001b[0m\n\u001b[0;32m--> 424\u001b[0;31m     return run(*popenargs, stdout=PIPE, timeout=timeout, check=True,\n\u001b[0m\u001b[1;32m    425\u001b[0m                **kwargs).stdout\n",
      "\u001b[0;32m~/opt/anaconda3/envs/main3.9/lib/python3.9/subprocess.py\u001b[0m in \u001b[0;36mrun\u001b[0;34m(input, capture_output, timeout, check, *popenargs, **kwargs)\u001b[0m\n\u001b[1;32m    527\u001b[0m         \u001b[0;32mif\u001b[0m \u001b[0mcheck\u001b[0m \u001b[0;32mand\u001b[0m \u001b[0mretcode\u001b[0m\u001b[0;34m:\u001b[0m\u001b[0;34m\u001b[0m\u001b[0;34m\u001b[0m\u001b[0m\n\u001b[0;32m--> 528\u001b[0;31m             raise CalledProcessError(retcode, process.args,\n\u001b[0m\u001b[1;32m    529\u001b[0m                                      output=stdout, stderr=stderr)\n",
      "\u001b[0;31mCalledProcessError\u001b[0m: Command '['latex', '-interaction=nonstopmode', '--halt-on-error', '/Users/marco/.matplotlib/tex.cache/f327170d46b807e75907721f3dfe1823.tex']' returned non-zero exit status 1.",
      "\nThe above exception was the direct cause of the following exception:\n",
      "\u001b[0;31mRuntimeError\u001b[0m                              Traceback (most recent call last)",
      "\u001b[0;32m~/opt/anaconda3/envs/main3.9/lib/python3.9/site-packages/IPython/core/formatters.py\u001b[0m in \u001b[0;36m__call__\u001b[0;34m(self, obj)\u001b[0m\n\u001b[1;32m    339\u001b[0m                 \u001b[0;32mpass\u001b[0m\u001b[0;34m\u001b[0m\u001b[0;34m\u001b[0m\u001b[0m\n\u001b[1;32m    340\u001b[0m             \u001b[0;32melse\u001b[0m\u001b[0;34m:\u001b[0m\u001b[0;34m\u001b[0m\u001b[0;34m\u001b[0m\u001b[0m\n\u001b[0;32m--> 341\u001b[0;31m                 \u001b[0;32mreturn\u001b[0m \u001b[0mprinter\u001b[0m\u001b[0;34m(\u001b[0m\u001b[0mobj\u001b[0m\u001b[0;34m)\u001b[0m\u001b[0;34m\u001b[0m\u001b[0;34m\u001b[0m\u001b[0m\n\u001b[0m\u001b[1;32m    342\u001b[0m             \u001b[0;31m# Finally look for special method names\u001b[0m\u001b[0;34m\u001b[0m\u001b[0;34m\u001b[0m\u001b[0;34m\u001b[0m\u001b[0m\n\u001b[1;32m    343\u001b[0m             \u001b[0mmethod\u001b[0m \u001b[0;34m=\u001b[0m \u001b[0mget_real_method\u001b[0m\u001b[0;34m(\u001b[0m\u001b[0mobj\u001b[0m\u001b[0;34m,\u001b[0m \u001b[0mself\u001b[0m\u001b[0;34m.\u001b[0m\u001b[0mprint_method\u001b[0m\u001b[0;34m)\u001b[0m\u001b[0;34m\u001b[0m\u001b[0;34m\u001b[0m\u001b[0m\n",
      "\u001b[0;32m~/opt/anaconda3/envs/main3.9/lib/python3.9/site-packages/IPython/core/pylabtools.py\u001b[0m in \u001b[0;36m<lambda>\u001b[0;34m(fig)\u001b[0m\n\u001b[1;32m    248\u001b[0m \u001b[0;34m\u001b[0m\u001b[0m\n\u001b[1;32m    249\u001b[0m     \u001b[0;32mif\u001b[0m \u001b[0;34m'png'\u001b[0m \u001b[0;32min\u001b[0m \u001b[0mformats\u001b[0m\u001b[0;34m:\u001b[0m\u001b[0;34m\u001b[0m\u001b[0;34m\u001b[0m\u001b[0m\n\u001b[0;32m--> 250\u001b[0;31m         \u001b[0mpng_formatter\u001b[0m\u001b[0;34m.\u001b[0m\u001b[0mfor_type\u001b[0m\u001b[0;34m(\u001b[0m\u001b[0mFigure\u001b[0m\u001b[0;34m,\u001b[0m \u001b[0;32mlambda\u001b[0m \u001b[0mfig\u001b[0m\u001b[0;34m:\u001b[0m \u001b[0mprint_figure\u001b[0m\u001b[0;34m(\u001b[0m\u001b[0mfig\u001b[0m\u001b[0;34m,\u001b[0m \u001b[0;34m'png'\u001b[0m\u001b[0;34m,\u001b[0m \u001b[0;34m**\u001b[0m\u001b[0mkwargs\u001b[0m\u001b[0;34m)\u001b[0m\u001b[0;34m)\u001b[0m\u001b[0;34m\u001b[0m\u001b[0;34m\u001b[0m\u001b[0m\n\u001b[0m\u001b[1;32m    251\u001b[0m     \u001b[0;32mif\u001b[0m \u001b[0;34m'retina'\u001b[0m \u001b[0;32min\u001b[0m \u001b[0mformats\u001b[0m \u001b[0;32mor\u001b[0m \u001b[0;34m'png2x'\u001b[0m \u001b[0;32min\u001b[0m \u001b[0mformats\u001b[0m\u001b[0;34m:\u001b[0m\u001b[0;34m\u001b[0m\u001b[0;34m\u001b[0m\u001b[0m\n\u001b[1;32m    252\u001b[0m         \u001b[0mpng_formatter\u001b[0m\u001b[0;34m.\u001b[0m\u001b[0mfor_type\u001b[0m\u001b[0;34m(\u001b[0m\u001b[0mFigure\u001b[0m\u001b[0;34m,\u001b[0m \u001b[0;32mlambda\u001b[0m \u001b[0mfig\u001b[0m\u001b[0;34m:\u001b[0m \u001b[0mretina_figure\u001b[0m\u001b[0;34m(\u001b[0m\u001b[0mfig\u001b[0m\u001b[0;34m,\u001b[0m \u001b[0;34m**\u001b[0m\u001b[0mkwargs\u001b[0m\u001b[0;34m)\u001b[0m\u001b[0;34m)\u001b[0m\u001b[0;34m\u001b[0m\u001b[0;34m\u001b[0m\u001b[0m\n",
      "\u001b[0;32m~/opt/anaconda3/envs/main3.9/lib/python3.9/site-packages/IPython/core/pylabtools.py\u001b[0m in \u001b[0;36mprint_figure\u001b[0;34m(fig, fmt, bbox_inches, **kwargs)\u001b[0m\n\u001b[1;32m    132\u001b[0m         \u001b[0mFigureCanvasBase\u001b[0m\u001b[0;34m(\u001b[0m\u001b[0mfig\u001b[0m\u001b[0;34m)\u001b[0m\u001b[0;34m\u001b[0m\u001b[0;34m\u001b[0m\u001b[0m\n\u001b[1;32m    133\u001b[0m \u001b[0;34m\u001b[0m\u001b[0m\n\u001b[0;32m--> 134\u001b[0;31m     \u001b[0mfig\u001b[0m\u001b[0;34m.\u001b[0m\u001b[0mcanvas\u001b[0m\u001b[0;34m.\u001b[0m\u001b[0mprint_figure\u001b[0m\u001b[0;34m(\u001b[0m\u001b[0mbytes_io\u001b[0m\u001b[0;34m,\u001b[0m \u001b[0;34m**\u001b[0m\u001b[0mkw\u001b[0m\u001b[0;34m)\u001b[0m\u001b[0;34m\u001b[0m\u001b[0;34m\u001b[0m\u001b[0m\n\u001b[0m\u001b[1;32m    135\u001b[0m     \u001b[0mdata\u001b[0m \u001b[0;34m=\u001b[0m \u001b[0mbytes_io\u001b[0m\u001b[0;34m.\u001b[0m\u001b[0mgetvalue\u001b[0m\u001b[0;34m(\u001b[0m\u001b[0;34m)\u001b[0m\u001b[0;34m\u001b[0m\u001b[0;34m\u001b[0m\u001b[0m\n\u001b[1;32m    136\u001b[0m     \u001b[0;32mif\u001b[0m \u001b[0mfmt\u001b[0m \u001b[0;34m==\u001b[0m \u001b[0;34m'svg'\u001b[0m\u001b[0;34m:\u001b[0m\u001b[0;34m\u001b[0m\u001b[0;34m\u001b[0m\u001b[0m\n",
      "\u001b[0;32m~/opt/anaconda3/envs/main3.9/lib/python3.9/site-packages/matplotlib/backend_bases.py\u001b[0m in \u001b[0;36mprint_figure\u001b[0;34m(self, filename, dpi, facecolor, edgecolor, orientation, format, bbox_inches, pad_inches, bbox_extra_artists, backend, **kwargs)\u001b[0m\n\u001b[1;32m   2228\u001b[0m                        else suppress())\n\u001b[1;32m   2229\u001b[0m                 \u001b[0;32mwith\u001b[0m \u001b[0mctx\u001b[0m\u001b[0;34m:\u001b[0m\u001b[0;34m\u001b[0m\u001b[0;34m\u001b[0m\u001b[0m\n\u001b[0;32m-> 2230\u001b[0;31m                     \u001b[0mself\u001b[0m\u001b[0;34m.\u001b[0m\u001b[0mfigure\u001b[0m\u001b[0;34m.\u001b[0m\u001b[0mdraw\u001b[0m\u001b[0;34m(\u001b[0m\u001b[0mrenderer\u001b[0m\u001b[0;34m)\u001b[0m\u001b[0;34m\u001b[0m\u001b[0;34m\u001b[0m\u001b[0m\n\u001b[0m\u001b[1;32m   2231\u001b[0m \u001b[0;34m\u001b[0m\u001b[0m\n\u001b[1;32m   2232\u001b[0m             \u001b[0;32mif\u001b[0m \u001b[0mbbox_inches\u001b[0m\u001b[0;34m:\u001b[0m\u001b[0;34m\u001b[0m\u001b[0;34m\u001b[0m\u001b[0m\n",
      "\u001b[0;32m~/opt/anaconda3/envs/main3.9/lib/python3.9/site-packages/matplotlib/artist.py\u001b[0m in \u001b[0;36mdraw_wrapper\u001b[0;34m(artist, renderer, *args, **kwargs)\u001b[0m\n\u001b[1;32m     72\u001b[0m     \u001b[0;34m@\u001b[0m\u001b[0mwraps\u001b[0m\u001b[0;34m(\u001b[0m\u001b[0mdraw\u001b[0m\u001b[0;34m)\u001b[0m\u001b[0;34m\u001b[0m\u001b[0;34m\u001b[0m\u001b[0m\n\u001b[1;32m     73\u001b[0m     \u001b[0;32mdef\u001b[0m \u001b[0mdraw_wrapper\u001b[0m\u001b[0;34m(\u001b[0m\u001b[0martist\u001b[0m\u001b[0;34m,\u001b[0m \u001b[0mrenderer\u001b[0m\u001b[0;34m,\u001b[0m \u001b[0;34m*\u001b[0m\u001b[0margs\u001b[0m\u001b[0;34m,\u001b[0m \u001b[0;34m**\u001b[0m\u001b[0mkwargs\u001b[0m\u001b[0;34m)\u001b[0m\u001b[0;34m:\u001b[0m\u001b[0;34m\u001b[0m\u001b[0;34m\u001b[0m\u001b[0m\n\u001b[0;32m---> 74\u001b[0;31m         \u001b[0mresult\u001b[0m \u001b[0;34m=\u001b[0m \u001b[0mdraw\u001b[0m\u001b[0;34m(\u001b[0m\u001b[0martist\u001b[0m\u001b[0;34m,\u001b[0m \u001b[0mrenderer\u001b[0m\u001b[0;34m,\u001b[0m \u001b[0;34m*\u001b[0m\u001b[0margs\u001b[0m\u001b[0;34m,\u001b[0m \u001b[0;34m**\u001b[0m\u001b[0mkwargs\u001b[0m\u001b[0;34m)\u001b[0m\u001b[0;34m\u001b[0m\u001b[0;34m\u001b[0m\u001b[0m\n\u001b[0m\u001b[1;32m     75\u001b[0m         \u001b[0;32mif\u001b[0m \u001b[0mrenderer\u001b[0m\u001b[0;34m.\u001b[0m\u001b[0m_rasterizing\u001b[0m\u001b[0;34m:\u001b[0m\u001b[0;34m\u001b[0m\u001b[0;34m\u001b[0m\u001b[0m\n\u001b[1;32m     76\u001b[0m             \u001b[0mrenderer\u001b[0m\u001b[0;34m.\u001b[0m\u001b[0mstop_rasterizing\u001b[0m\u001b[0;34m(\u001b[0m\u001b[0;34m)\u001b[0m\u001b[0;34m\u001b[0m\u001b[0;34m\u001b[0m\u001b[0m\n",
      "\u001b[0;32m~/opt/anaconda3/envs/main3.9/lib/python3.9/site-packages/matplotlib/artist.py\u001b[0m in \u001b[0;36mdraw_wrapper\u001b[0;34m(artist, renderer, *args, **kwargs)\u001b[0m\n\u001b[1;32m     49\u001b[0m                 \u001b[0mrenderer\u001b[0m\u001b[0;34m.\u001b[0m\u001b[0mstart_filter\u001b[0m\u001b[0;34m(\u001b[0m\u001b[0;34m)\u001b[0m\u001b[0;34m\u001b[0m\u001b[0;34m\u001b[0m\u001b[0m\n\u001b[1;32m     50\u001b[0m \u001b[0;34m\u001b[0m\u001b[0m\n\u001b[0;32m---> 51\u001b[0;31m             \u001b[0;32mreturn\u001b[0m \u001b[0mdraw\u001b[0m\u001b[0;34m(\u001b[0m\u001b[0martist\u001b[0m\u001b[0;34m,\u001b[0m \u001b[0mrenderer\u001b[0m\u001b[0;34m,\u001b[0m \u001b[0;34m*\u001b[0m\u001b[0margs\u001b[0m\u001b[0;34m,\u001b[0m \u001b[0;34m**\u001b[0m\u001b[0mkwargs\u001b[0m\u001b[0;34m)\u001b[0m\u001b[0;34m\u001b[0m\u001b[0;34m\u001b[0m\u001b[0m\n\u001b[0m\u001b[1;32m     52\u001b[0m         \u001b[0;32mfinally\u001b[0m\u001b[0;34m:\u001b[0m\u001b[0;34m\u001b[0m\u001b[0;34m\u001b[0m\u001b[0m\n\u001b[1;32m     53\u001b[0m             \u001b[0;32mif\u001b[0m \u001b[0martist\u001b[0m\u001b[0;34m.\u001b[0m\u001b[0mget_agg_filter\u001b[0m\u001b[0;34m(\u001b[0m\u001b[0;34m)\u001b[0m \u001b[0;32mis\u001b[0m \u001b[0;32mnot\u001b[0m \u001b[0;32mNone\u001b[0m\u001b[0;34m:\u001b[0m\u001b[0;34m\u001b[0m\u001b[0;34m\u001b[0m\u001b[0m\n",
      "\u001b[0;32m~/opt/anaconda3/envs/main3.9/lib/python3.9/site-packages/matplotlib/figure.py\u001b[0m in \u001b[0;36mdraw\u001b[0;34m(self, renderer)\u001b[0m\n\u001b[1;32m   2778\u001b[0m \u001b[0;34m\u001b[0m\u001b[0m\n\u001b[1;32m   2779\u001b[0m             \u001b[0mself\u001b[0m\u001b[0;34m.\u001b[0m\u001b[0mpatch\u001b[0m\u001b[0;34m.\u001b[0m\u001b[0mdraw\u001b[0m\u001b[0;34m(\u001b[0m\u001b[0mrenderer\u001b[0m\u001b[0;34m)\u001b[0m\u001b[0;34m\u001b[0m\u001b[0;34m\u001b[0m\u001b[0m\n\u001b[0;32m-> 2780\u001b[0;31m             mimage._draw_list_compositing_images(\n\u001b[0m\u001b[1;32m   2781\u001b[0m                 renderer, self, artists, self.suppressComposite)\n\u001b[1;32m   2782\u001b[0m \u001b[0;34m\u001b[0m\u001b[0m\n",
      "\u001b[0;32m~/opt/anaconda3/envs/main3.9/lib/python3.9/site-packages/matplotlib/image.py\u001b[0m in \u001b[0;36m_draw_list_compositing_images\u001b[0;34m(renderer, parent, artists, suppress_composite)\u001b[0m\n\u001b[1;32m    130\u001b[0m     \u001b[0;32mif\u001b[0m \u001b[0mnot_composite\u001b[0m \u001b[0;32mor\u001b[0m \u001b[0;32mnot\u001b[0m \u001b[0mhas_images\u001b[0m\u001b[0;34m:\u001b[0m\u001b[0;34m\u001b[0m\u001b[0;34m\u001b[0m\u001b[0m\n\u001b[1;32m    131\u001b[0m         \u001b[0;32mfor\u001b[0m \u001b[0ma\u001b[0m \u001b[0;32min\u001b[0m \u001b[0martists\u001b[0m\u001b[0;34m:\u001b[0m\u001b[0;34m\u001b[0m\u001b[0;34m\u001b[0m\u001b[0m\n\u001b[0;32m--> 132\u001b[0;31m             \u001b[0ma\u001b[0m\u001b[0;34m.\u001b[0m\u001b[0mdraw\u001b[0m\u001b[0;34m(\u001b[0m\u001b[0mrenderer\u001b[0m\u001b[0;34m)\u001b[0m\u001b[0;34m\u001b[0m\u001b[0;34m\u001b[0m\u001b[0m\n\u001b[0m\u001b[1;32m    133\u001b[0m     \u001b[0;32melse\u001b[0m\u001b[0;34m:\u001b[0m\u001b[0;34m\u001b[0m\u001b[0;34m\u001b[0m\u001b[0m\n\u001b[1;32m    134\u001b[0m         \u001b[0;31m# Composite any adjacent images together\u001b[0m\u001b[0;34m\u001b[0m\u001b[0;34m\u001b[0m\u001b[0;34m\u001b[0m\u001b[0m\n",
      "\u001b[0;32m~/opt/anaconda3/envs/main3.9/lib/python3.9/site-packages/matplotlib/artist.py\u001b[0m in \u001b[0;36mdraw_wrapper\u001b[0;34m(artist, renderer, *args, **kwargs)\u001b[0m\n\u001b[1;32m     49\u001b[0m                 \u001b[0mrenderer\u001b[0m\u001b[0;34m.\u001b[0m\u001b[0mstart_filter\u001b[0m\u001b[0;34m(\u001b[0m\u001b[0;34m)\u001b[0m\u001b[0;34m\u001b[0m\u001b[0;34m\u001b[0m\u001b[0m\n\u001b[1;32m     50\u001b[0m \u001b[0;34m\u001b[0m\u001b[0m\n\u001b[0;32m---> 51\u001b[0;31m             \u001b[0;32mreturn\u001b[0m \u001b[0mdraw\u001b[0m\u001b[0;34m(\u001b[0m\u001b[0martist\u001b[0m\u001b[0;34m,\u001b[0m \u001b[0mrenderer\u001b[0m\u001b[0;34m,\u001b[0m \u001b[0;34m*\u001b[0m\u001b[0margs\u001b[0m\u001b[0;34m,\u001b[0m \u001b[0;34m**\u001b[0m\u001b[0mkwargs\u001b[0m\u001b[0;34m)\u001b[0m\u001b[0;34m\u001b[0m\u001b[0;34m\u001b[0m\u001b[0m\n\u001b[0m\u001b[1;32m     52\u001b[0m         \u001b[0;32mfinally\u001b[0m\u001b[0;34m:\u001b[0m\u001b[0;34m\u001b[0m\u001b[0;34m\u001b[0m\u001b[0m\n\u001b[1;32m     53\u001b[0m             \u001b[0;32mif\u001b[0m \u001b[0martist\u001b[0m\u001b[0;34m.\u001b[0m\u001b[0mget_agg_filter\u001b[0m\u001b[0;34m(\u001b[0m\u001b[0;34m)\u001b[0m \u001b[0;32mis\u001b[0m \u001b[0;32mnot\u001b[0m \u001b[0;32mNone\u001b[0m\u001b[0;34m:\u001b[0m\u001b[0;34m\u001b[0m\u001b[0;34m\u001b[0m\u001b[0m\n",
      "\u001b[0;32m~/opt/anaconda3/envs/main3.9/lib/python3.9/site-packages/matplotlib/_api/deprecation.py\u001b[0m in \u001b[0;36mwrapper\u001b[0;34m(*inner_args, **inner_kwargs)\u001b[0m\n\u001b[1;32m    429\u001b[0m                          \u001b[0;32melse\u001b[0m \u001b[0mdeprecation_addendum\u001b[0m\u001b[0;34m,\u001b[0m\u001b[0;34m\u001b[0m\u001b[0;34m\u001b[0m\u001b[0m\n\u001b[1;32m    430\u001b[0m                 **kwargs)\n\u001b[0;32m--> 431\u001b[0;31m         \u001b[0;32mreturn\u001b[0m \u001b[0mfunc\u001b[0m\u001b[0;34m(\u001b[0m\u001b[0;34m*\u001b[0m\u001b[0minner_args\u001b[0m\u001b[0;34m,\u001b[0m \u001b[0;34m**\u001b[0m\u001b[0minner_kwargs\u001b[0m\u001b[0;34m)\u001b[0m\u001b[0;34m\u001b[0m\u001b[0;34m\u001b[0m\u001b[0m\n\u001b[0m\u001b[1;32m    432\u001b[0m \u001b[0;34m\u001b[0m\u001b[0m\n\u001b[1;32m    433\u001b[0m     \u001b[0;32mreturn\u001b[0m \u001b[0mwrapper\u001b[0m\u001b[0;34m\u001b[0m\u001b[0;34m\u001b[0m\u001b[0m\n",
      "\u001b[0;32m~/opt/anaconda3/envs/main3.9/lib/python3.9/site-packages/matplotlib/axes/_base.py\u001b[0m in \u001b[0;36mdraw\u001b[0;34m(self, renderer, inframe)\u001b[0m\n\u001b[1;32m   2919\u001b[0m             \u001b[0mrenderer\u001b[0m\u001b[0;34m.\u001b[0m\u001b[0mstop_rasterizing\u001b[0m\u001b[0;34m(\u001b[0m\u001b[0;34m)\u001b[0m\u001b[0;34m\u001b[0m\u001b[0;34m\u001b[0m\u001b[0m\n\u001b[1;32m   2920\u001b[0m \u001b[0;34m\u001b[0m\u001b[0m\n\u001b[0;32m-> 2921\u001b[0;31m         \u001b[0mmimage\u001b[0m\u001b[0;34m.\u001b[0m\u001b[0m_draw_list_compositing_images\u001b[0m\u001b[0;34m(\u001b[0m\u001b[0mrenderer\u001b[0m\u001b[0;34m,\u001b[0m \u001b[0mself\u001b[0m\u001b[0;34m,\u001b[0m \u001b[0martists\u001b[0m\u001b[0;34m)\u001b[0m\u001b[0;34m\u001b[0m\u001b[0;34m\u001b[0m\u001b[0m\n\u001b[0m\u001b[1;32m   2922\u001b[0m \u001b[0;34m\u001b[0m\u001b[0m\n\u001b[1;32m   2923\u001b[0m         \u001b[0mrenderer\u001b[0m\u001b[0;34m.\u001b[0m\u001b[0mclose_group\u001b[0m\u001b[0;34m(\u001b[0m\u001b[0;34m'axes'\u001b[0m\u001b[0;34m)\u001b[0m\u001b[0;34m\u001b[0m\u001b[0;34m\u001b[0m\u001b[0m\n",
      "\u001b[0;32m~/opt/anaconda3/envs/main3.9/lib/python3.9/site-packages/matplotlib/image.py\u001b[0m in \u001b[0;36m_draw_list_compositing_images\u001b[0;34m(renderer, parent, artists, suppress_composite)\u001b[0m\n\u001b[1;32m    130\u001b[0m     \u001b[0;32mif\u001b[0m \u001b[0mnot_composite\u001b[0m \u001b[0;32mor\u001b[0m \u001b[0;32mnot\u001b[0m \u001b[0mhas_images\u001b[0m\u001b[0;34m:\u001b[0m\u001b[0;34m\u001b[0m\u001b[0;34m\u001b[0m\u001b[0m\n\u001b[1;32m    131\u001b[0m         \u001b[0;32mfor\u001b[0m \u001b[0ma\u001b[0m \u001b[0;32min\u001b[0m \u001b[0martists\u001b[0m\u001b[0;34m:\u001b[0m\u001b[0;34m\u001b[0m\u001b[0;34m\u001b[0m\u001b[0m\n\u001b[0;32m--> 132\u001b[0;31m             \u001b[0ma\u001b[0m\u001b[0;34m.\u001b[0m\u001b[0mdraw\u001b[0m\u001b[0;34m(\u001b[0m\u001b[0mrenderer\u001b[0m\u001b[0;34m)\u001b[0m\u001b[0;34m\u001b[0m\u001b[0;34m\u001b[0m\u001b[0m\n\u001b[0m\u001b[1;32m    133\u001b[0m     \u001b[0;32melse\u001b[0m\u001b[0;34m:\u001b[0m\u001b[0;34m\u001b[0m\u001b[0;34m\u001b[0m\u001b[0m\n\u001b[1;32m    134\u001b[0m         \u001b[0;31m# Composite any adjacent images together\u001b[0m\u001b[0;34m\u001b[0m\u001b[0;34m\u001b[0m\u001b[0;34m\u001b[0m\u001b[0m\n",
      "\u001b[0;32m~/opt/anaconda3/envs/main3.9/lib/python3.9/site-packages/matplotlib/artist.py\u001b[0m in \u001b[0;36mdraw_wrapper\u001b[0;34m(artist, renderer, *args, **kwargs)\u001b[0m\n\u001b[1;32m     49\u001b[0m                 \u001b[0mrenderer\u001b[0m\u001b[0;34m.\u001b[0m\u001b[0mstart_filter\u001b[0m\u001b[0;34m(\u001b[0m\u001b[0;34m)\u001b[0m\u001b[0;34m\u001b[0m\u001b[0;34m\u001b[0m\u001b[0m\n\u001b[1;32m     50\u001b[0m \u001b[0;34m\u001b[0m\u001b[0m\n\u001b[0;32m---> 51\u001b[0;31m             \u001b[0;32mreturn\u001b[0m \u001b[0mdraw\u001b[0m\u001b[0;34m(\u001b[0m\u001b[0martist\u001b[0m\u001b[0;34m,\u001b[0m \u001b[0mrenderer\u001b[0m\u001b[0;34m,\u001b[0m \u001b[0;34m*\u001b[0m\u001b[0margs\u001b[0m\u001b[0;34m,\u001b[0m \u001b[0;34m**\u001b[0m\u001b[0mkwargs\u001b[0m\u001b[0;34m)\u001b[0m\u001b[0;34m\u001b[0m\u001b[0;34m\u001b[0m\u001b[0m\n\u001b[0m\u001b[1;32m     52\u001b[0m         \u001b[0;32mfinally\u001b[0m\u001b[0;34m:\u001b[0m\u001b[0;34m\u001b[0m\u001b[0;34m\u001b[0m\u001b[0m\n\u001b[1;32m     53\u001b[0m             \u001b[0;32mif\u001b[0m \u001b[0martist\u001b[0m\u001b[0;34m.\u001b[0m\u001b[0mget_agg_filter\u001b[0m\u001b[0;34m(\u001b[0m\u001b[0;34m)\u001b[0m \u001b[0;32mis\u001b[0m \u001b[0;32mnot\u001b[0m \u001b[0;32mNone\u001b[0m\u001b[0;34m:\u001b[0m\u001b[0;34m\u001b[0m\u001b[0;34m\u001b[0m\u001b[0m\n",
      "\u001b[0;32m~/opt/anaconda3/envs/main3.9/lib/python3.9/site-packages/matplotlib/axis.py\u001b[0m in \u001b[0;36mdraw\u001b[0;34m(self, renderer, *args, **kwargs)\u001b[0m\n\u001b[1;32m   1148\u001b[0m         \u001b[0mself\u001b[0m\u001b[0;34m.\u001b[0m\u001b[0m_update_label_position\u001b[0m\u001b[0;34m(\u001b[0m\u001b[0mrenderer\u001b[0m\u001b[0;34m)\u001b[0m\u001b[0;34m\u001b[0m\u001b[0;34m\u001b[0m\u001b[0m\n\u001b[1;32m   1149\u001b[0m \u001b[0;34m\u001b[0m\u001b[0m\n\u001b[0;32m-> 1150\u001b[0;31m         \u001b[0mself\u001b[0m\u001b[0;34m.\u001b[0m\u001b[0mlabel\u001b[0m\u001b[0;34m.\u001b[0m\u001b[0mdraw\u001b[0m\u001b[0;34m(\u001b[0m\u001b[0mrenderer\u001b[0m\u001b[0;34m)\u001b[0m\u001b[0;34m\u001b[0m\u001b[0;34m\u001b[0m\u001b[0m\n\u001b[0m\u001b[1;32m   1151\u001b[0m \u001b[0;34m\u001b[0m\u001b[0m\n\u001b[1;32m   1152\u001b[0m         \u001b[0mself\u001b[0m\u001b[0;34m.\u001b[0m\u001b[0m_update_offset_text_position\u001b[0m\u001b[0;34m(\u001b[0m\u001b[0mticklabelBoxes\u001b[0m\u001b[0;34m,\u001b[0m \u001b[0mticklabelBoxes2\u001b[0m\u001b[0;34m)\u001b[0m\u001b[0;34m\u001b[0m\u001b[0;34m\u001b[0m\u001b[0m\n",
      "\u001b[0;32m~/opt/anaconda3/envs/main3.9/lib/python3.9/site-packages/matplotlib/artist.py\u001b[0m in \u001b[0;36mdraw_wrapper\u001b[0;34m(artist, renderer, *args, **kwargs)\u001b[0m\n\u001b[1;32m     49\u001b[0m                 \u001b[0mrenderer\u001b[0m\u001b[0;34m.\u001b[0m\u001b[0mstart_filter\u001b[0m\u001b[0;34m(\u001b[0m\u001b[0;34m)\u001b[0m\u001b[0;34m\u001b[0m\u001b[0;34m\u001b[0m\u001b[0m\n\u001b[1;32m     50\u001b[0m \u001b[0;34m\u001b[0m\u001b[0m\n\u001b[0;32m---> 51\u001b[0;31m             \u001b[0;32mreturn\u001b[0m \u001b[0mdraw\u001b[0m\u001b[0;34m(\u001b[0m\u001b[0martist\u001b[0m\u001b[0;34m,\u001b[0m \u001b[0mrenderer\u001b[0m\u001b[0;34m,\u001b[0m \u001b[0;34m*\u001b[0m\u001b[0margs\u001b[0m\u001b[0;34m,\u001b[0m \u001b[0;34m**\u001b[0m\u001b[0mkwargs\u001b[0m\u001b[0;34m)\u001b[0m\u001b[0;34m\u001b[0m\u001b[0;34m\u001b[0m\u001b[0m\n\u001b[0m\u001b[1;32m     52\u001b[0m         \u001b[0;32mfinally\u001b[0m\u001b[0;34m:\u001b[0m\u001b[0;34m\u001b[0m\u001b[0;34m\u001b[0m\u001b[0m\n\u001b[1;32m     53\u001b[0m             \u001b[0;32mif\u001b[0m \u001b[0martist\u001b[0m\u001b[0;34m.\u001b[0m\u001b[0mget_agg_filter\u001b[0m\u001b[0;34m(\u001b[0m\u001b[0;34m)\u001b[0m \u001b[0;32mis\u001b[0m \u001b[0;32mnot\u001b[0m \u001b[0;32mNone\u001b[0m\u001b[0;34m:\u001b[0m\u001b[0;34m\u001b[0m\u001b[0;34m\u001b[0m\u001b[0m\n",
      "\u001b[0;32m~/opt/anaconda3/envs/main3.9/lib/python3.9/site-packages/matplotlib/text.py\u001b[0m in \u001b[0;36mdraw\u001b[0;34m(self, renderer)\u001b[0m\n\u001b[1;32m    677\u001b[0m \u001b[0;34m\u001b[0m\u001b[0m\n\u001b[1;32m    678\u001b[0m         \u001b[0;32mwith\u001b[0m \u001b[0m_wrap_text\u001b[0m\u001b[0;34m(\u001b[0m\u001b[0mself\u001b[0m\u001b[0;34m)\u001b[0m \u001b[0;32mas\u001b[0m \u001b[0mtextobj\u001b[0m\u001b[0;34m:\u001b[0m\u001b[0;34m\u001b[0m\u001b[0;34m\u001b[0m\u001b[0m\n\u001b[0;32m--> 679\u001b[0;31m             \u001b[0mbbox\u001b[0m\u001b[0;34m,\u001b[0m \u001b[0minfo\u001b[0m\u001b[0;34m,\u001b[0m \u001b[0mdescent\u001b[0m \u001b[0;34m=\u001b[0m \u001b[0mtextobj\u001b[0m\u001b[0;34m.\u001b[0m\u001b[0m_get_layout\u001b[0m\u001b[0;34m(\u001b[0m\u001b[0mrenderer\u001b[0m\u001b[0;34m)\u001b[0m\u001b[0;34m\u001b[0m\u001b[0;34m\u001b[0m\u001b[0m\n\u001b[0m\u001b[1;32m    680\u001b[0m             \u001b[0mtrans\u001b[0m \u001b[0;34m=\u001b[0m \u001b[0mtextobj\u001b[0m\u001b[0;34m.\u001b[0m\u001b[0mget_transform\u001b[0m\u001b[0;34m(\u001b[0m\u001b[0;34m)\u001b[0m\u001b[0;34m\u001b[0m\u001b[0;34m\u001b[0m\u001b[0m\n\u001b[1;32m    681\u001b[0m \u001b[0;34m\u001b[0m\u001b[0m\n",
      "\u001b[0;32m~/opt/anaconda3/envs/main3.9/lib/python3.9/site-packages/matplotlib/text.py\u001b[0m in \u001b[0;36m_get_layout\u001b[0;34m(self, renderer)\u001b[0m\n\u001b[1;32m    312\u001b[0m             \u001b[0mclean_line\u001b[0m\u001b[0;34m,\u001b[0m \u001b[0mismath\u001b[0m \u001b[0;34m=\u001b[0m \u001b[0mself\u001b[0m\u001b[0;34m.\u001b[0m\u001b[0m_preprocess_math\u001b[0m\u001b[0;34m(\u001b[0m\u001b[0mline\u001b[0m\u001b[0;34m)\u001b[0m\u001b[0;34m\u001b[0m\u001b[0;34m\u001b[0m\u001b[0m\n\u001b[1;32m    313\u001b[0m             \u001b[0;32mif\u001b[0m \u001b[0mclean_line\u001b[0m\u001b[0;34m:\u001b[0m\u001b[0;34m\u001b[0m\u001b[0;34m\u001b[0m\u001b[0m\n\u001b[0;32m--> 314\u001b[0;31m                 w, h, d = renderer.get_text_width_height_descent(\n\u001b[0m\u001b[1;32m    315\u001b[0m                     clean_line, self._fontproperties, ismath=ismath)\n\u001b[1;32m    316\u001b[0m             \u001b[0;32melse\u001b[0m\u001b[0;34m:\u001b[0m\u001b[0;34m\u001b[0m\u001b[0;34m\u001b[0m\u001b[0m\n",
      "\u001b[0;32m~/opt/anaconda3/envs/main3.9/lib/python3.9/site-packages/matplotlib/backends/backend_agg.py\u001b[0m in \u001b[0;36mget_text_width_height_descent\u001b[0;34m(self, s, prop, ismath)\u001b[0m\n\u001b[1;32m    227\u001b[0m             \u001b[0mtexmanager\u001b[0m \u001b[0;34m=\u001b[0m \u001b[0mself\u001b[0m\u001b[0;34m.\u001b[0m\u001b[0mget_texmanager\u001b[0m\u001b[0;34m(\u001b[0m\u001b[0;34m)\u001b[0m\u001b[0;34m\u001b[0m\u001b[0;34m\u001b[0m\u001b[0m\n\u001b[1;32m    228\u001b[0m             \u001b[0mfontsize\u001b[0m \u001b[0;34m=\u001b[0m \u001b[0mprop\u001b[0m\u001b[0;34m.\u001b[0m\u001b[0mget_size_in_points\u001b[0m\u001b[0;34m(\u001b[0m\u001b[0;34m)\u001b[0m\u001b[0;34m\u001b[0m\u001b[0;34m\u001b[0m\u001b[0m\n\u001b[0;32m--> 229\u001b[0;31m             w, h, d = texmanager.get_text_width_height_descent(\n\u001b[0m\u001b[1;32m    230\u001b[0m                 s, fontsize, renderer=self)\n\u001b[1;32m    231\u001b[0m             \u001b[0;32mreturn\u001b[0m \u001b[0mw\u001b[0m\u001b[0;34m,\u001b[0m \u001b[0mh\u001b[0m\u001b[0;34m,\u001b[0m \u001b[0md\u001b[0m\u001b[0;34m\u001b[0m\u001b[0;34m\u001b[0m\u001b[0m\n",
      "\u001b[0;32m~/opt/anaconda3/envs/main3.9/lib/python3.9/site-packages/matplotlib/texmanager.py\u001b[0m in \u001b[0;36mget_text_width_height_descent\u001b[0;34m(self, tex, fontsize, renderer)\u001b[0m\n\u001b[1;32m    397\u001b[0m         \u001b[0;32melse\u001b[0m\u001b[0;34m:\u001b[0m\u001b[0;34m\u001b[0m\u001b[0;34m\u001b[0m\u001b[0m\n\u001b[1;32m    398\u001b[0m             \u001b[0;31m# use dviread.\u001b[0m\u001b[0;34m\u001b[0m\u001b[0;34m\u001b[0m\u001b[0;34m\u001b[0m\u001b[0m\n\u001b[0;32m--> 399\u001b[0;31m             \u001b[0mdvifile\u001b[0m \u001b[0;34m=\u001b[0m \u001b[0mself\u001b[0m\u001b[0;34m.\u001b[0m\u001b[0mmake_dvi\u001b[0m\u001b[0;34m(\u001b[0m\u001b[0mtex\u001b[0m\u001b[0;34m,\u001b[0m \u001b[0mfontsize\u001b[0m\u001b[0;34m)\u001b[0m\u001b[0;34m\u001b[0m\u001b[0;34m\u001b[0m\u001b[0m\n\u001b[0m\u001b[1;32m    400\u001b[0m             \u001b[0;32mwith\u001b[0m \u001b[0mdviread\u001b[0m\u001b[0;34m.\u001b[0m\u001b[0mDvi\u001b[0m\u001b[0;34m(\u001b[0m\u001b[0mdvifile\u001b[0m\u001b[0;34m,\u001b[0m \u001b[0;36m72\u001b[0m \u001b[0;34m*\u001b[0m \u001b[0mdpi_fraction\u001b[0m\u001b[0;34m)\u001b[0m \u001b[0;32mas\u001b[0m \u001b[0mdvi\u001b[0m\u001b[0;34m:\u001b[0m\u001b[0;34m\u001b[0m\u001b[0;34m\u001b[0m\u001b[0m\n\u001b[1;32m    401\u001b[0m                 \u001b[0mpage\u001b[0m\u001b[0;34m,\u001b[0m \u001b[0;34m=\u001b[0m \u001b[0mdvi\u001b[0m\u001b[0;34m\u001b[0m\u001b[0;34m\u001b[0m\u001b[0m\n",
      "\u001b[0;32m~/opt/anaconda3/envs/main3.9/lib/python3.9/site-packages/matplotlib/texmanager.py\u001b[0m in \u001b[0;36mmake_dvi\u001b[0;34m(self, tex, fontsize)\u001b[0m\n\u001b[1;32m    289\u001b[0m             \u001b[0;31m# and thus replace() works atomically.\u001b[0m\u001b[0;34m\u001b[0m\u001b[0;34m\u001b[0m\u001b[0;34m\u001b[0m\u001b[0m\n\u001b[1;32m    290\u001b[0m             \u001b[0;32mwith\u001b[0m \u001b[0mTemporaryDirectory\u001b[0m\u001b[0;34m(\u001b[0m\u001b[0mdir\u001b[0m\u001b[0;34m=\u001b[0m\u001b[0mPath\u001b[0m\u001b[0;34m(\u001b[0m\u001b[0mdvifile\u001b[0m\u001b[0;34m)\u001b[0m\u001b[0;34m.\u001b[0m\u001b[0mparent\u001b[0m\u001b[0;34m)\u001b[0m \u001b[0;32mas\u001b[0m \u001b[0mtmpdir\u001b[0m\u001b[0;34m:\u001b[0m\u001b[0;34m\u001b[0m\u001b[0;34m\u001b[0m\u001b[0m\n\u001b[0;32m--> 291\u001b[0;31m                 self._run_checked_subprocess(\n\u001b[0m\u001b[1;32m    292\u001b[0m                     [\"latex\", \"-interaction=nonstopmode\", \"--halt-on-error\",\n\u001b[1;32m    293\u001b[0m                      texfile], tex, cwd=tmpdir)\n",
      "\u001b[0;32m~/opt/anaconda3/envs/main3.9/lib/python3.9/site-packages/matplotlib/texmanager.py\u001b[0m in \u001b[0;36m_run_checked_subprocess\u001b[0;34m(self, command, tex, cwd)\u001b[0m\n\u001b[1;32m    258\u001b[0m                 'found'.format(command[0])) from exc\n\u001b[1;32m    259\u001b[0m         \u001b[0;32mexcept\u001b[0m \u001b[0msubprocess\u001b[0m\u001b[0;34m.\u001b[0m\u001b[0mCalledProcessError\u001b[0m \u001b[0;32mas\u001b[0m \u001b[0mexc\u001b[0m\u001b[0;34m:\u001b[0m\u001b[0;34m\u001b[0m\u001b[0;34m\u001b[0m\u001b[0m\n\u001b[0;32m--> 260\u001b[0;31m             raise RuntimeError(\n\u001b[0m\u001b[1;32m    261\u001b[0m                 \u001b[0;34m'{prog} was not able to process the following string:\\n'\u001b[0m\u001b[0;34m\u001b[0m\u001b[0;34m\u001b[0m\u001b[0m\n\u001b[1;32m    262\u001b[0m                 \u001b[0;34m'{tex!r}\\n\\n'\u001b[0m\u001b[0;34m\u001b[0m\u001b[0;34m\u001b[0m\u001b[0m\n",
      "\u001b[0;31mRuntimeError\u001b[0m: latex was not able to process the following string:\nb'print_name $\\\\x0barepsilon$'\n\nHere is the full report generated by latex:\nThis is pdfTeX, Version 3.14159265-2.6-1.40.18 (TeX Live 2017) (preloaded format=latex)\n restricted \\write18 enabled.\nentering extended mode\n(/Users/marco/.matplotlib/tex.cache/f327170d46b807e75907721f3dfe1823.tex\nLaTeX2e <2017-04-15>\nBabel <3.10> and hyphenation patterns for 84 language(s) loaded.\n(/usr/local/texlive/2017/texmf-dist/tex/latex/base/article.cls\nDocument Class: article 2014/09/29 v1.4h Standard LaTeX document class\n(/usr/local/texlive/2017/texmf-dist/tex/latex/base/size10.clo))\n(/usr/local/texlive/2017/texmf-dist/tex/latex/type1cm/type1cm.sty)\n(/usr/local/texlive/2017/texmf-dist/tex/latex/cm-super/type1ec.sty\n(/usr/local/texlive/2017/texmf-dist/tex/latex/base/t1cmr.fd))\n(/usr/local/texlive/2017/texmf-dist/tex/latex/base/inputenc.sty\n(/usr/local/texlive/2017/texmf-dist/tex/latex/base/utf8.def\n(/usr/local/texlive/2017/texmf-dist/tex/latex/base/t1enc.dfu)\n(/usr/local/texlive/2017/texmf-dist/tex/latex/base/ot1enc.dfu)\n(/usr/local/texlive/2017/texmf-dist/tex/latex/base/omsenc.dfu)))\n(/usr/local/texlive/2017/texmf-dist/tex/latex/geometry/geometry.sty\n(/usr/local/texlive/2017/texmf-dist/tex/latex/graphics/keyval.sty)\n(/usr/local/texlive/2017/texmf-dist/tex/generic/oberdiek/ifpdf.sty)\n(/usr/local/texlive/2017/texmf-dist/tex/generic/oberdiek/ifvtex.sty)\n(/usr/local/texlive/2017/texmf-dist/tex/generic/ifxetex/ifxetex.sty))\n(/usr/local/texlive/2017/texmf-dist/tex/latex/base/textcomp.sty\n(/usr/local/texlive/2017/texmf-dist/tex/latex/base/ts1enc.def\n(/usr/local/texlive/2017/texmf-dist/tex/latex/base/ts1enc.dfu)))\nNo file f327170d46b807e75907721f3dfe1823.aux.\n(/usr/local/texlive/2017/texmf-dist/tex/latex/base/ts1cmr.fd)\n*geometry* driver: auto-detecting\n*geometry* detected driver: dvips\n! Missing $ inserted.\n<inserted text> \n                $\nl.19 {\\rmfamily print_\n                      name $\u000barepsilon$}\nNo pages of output.\nTranscript written on f327170d46b807e75907721f3dfe1823.log.\n\n\n"
     ]
    },
    {
     "data": {
      "text/plain": [
       "<Figure size 450x278.115 with 1 Axes>"
      ]
     },
     "metadata": {},
     "output_type": "display_data"
    }
   ],
   "source": [
    "# TESTING: The below needs all methods for one problem\n",
    "fig, axes = plt.subplots()\n",
    "plot_herr(axes, default_args)  # default_args is for the pendulum\n",
    "plt.show()"
   ]
  },
  {
   "cell_type": "code",
   "execution_count": null,
   "id": "f74a6cef",
   "metadata": {},
   "outputs": [],
   "source": []
  },
  {
   "cell_type": "code",
   "execution_count": 59,
   "id": "b849e0cf",
   "metadata": {},
   "outputs": [
    {
     "ename": "NameError",
     "evalue": "name 'FILENAME' is not defined",
     "output_type": "error",
     "traceback": [
      "\u001b[0;31m---------------------------------------------------------------------------\u001b[0m",
      "\u001b[0;31mNameError\u001b[0m                                 Traceback (most recent call last)",
      "\u001b[0;32m<ipython-input-59-1a9368cfa560>\u001b[0m in \u001b[0;36m<module>\u001b[0;34m\u001b[0m\n\u001b[1;32m      3\u001b[0m \u001b[0;31m# TODO\u001b[0m\u001b[0;34m\u001b[0m\u001b[0;34m\u001b[0m\u001b[0;34m\u001b[0m\u001b[0m\n\u001b[1;32m      4\u001b[0m \u001b[0;34m\u001b[0m\u001b[0m\n\u001b[0;32m----> 5\u001b[0;31m \u001b[0mfig\u001b[0m\u001b[0;34m.\u001b[0m\u001b[0msavefig\u001b[0m\u001b[0;34m(\u001b[0m\u001b[0mFILENAME\u001b[0m\u001b[0;34m,\u001b[0m \u001b[0mformat\u001b[0m\u001b[0;34m=\u001b[0m\u001b[0;34m'pdf'\u001b[0m\u001b[0;34m,\u001b[0m \u001b[0mbbox_inches\u001b[0m\u001b[0;34m=\u001b[0m\u001b[0;34m'tight'\u001b[0m\u001b[0;34m)\u001b[0m\u001b[0;34m\u001b[0m\u001b[0;34m\u001b[0m\u001b[0m\n\u001b[0m",
      "\u001b[0;31mNameError\u001b[0m: name 'FILENAME' is not defined"
     ]
    }
   ],
   "source": [
    "fig = plt.figure()  # kwargs: dpi=300, facecolor='white'\n",
    "\n",
    "# TODO\n",
    "\n",
    "fig.savefig(FILENAME, format='pdf', bbox_inches='tight')"
   ]
  },
  {
   "cell_type": "markdown",
   "id": "6daf5730",
   "metadata": {},
   "source": [
    "## Old code\n",
    "\n",
    "Used to also plot Hamiltonian error landscape in phase space, for 2D systems like spring/pendulum."
   ]
  },
  {
   "cell_type": "code",
   "execution_count": null,
   "id": "a8cf9df3",
   "metadata": {},
   "outputs": [],
   "source": [
    "t_span = (0, 300)\n",
    "t_eval = get_t_eval(t_span, args.h)\n",
    "\n",
    "# Use RK45 with rtol of 1e-9 to have RK45 effectively yield the true flow of a vector field \n",
    "kwargs = {'t_eval': t_eval, 'rtol': 1e-9, 'method': 'RK45'}\n",
    "\n",
    "# INTEGRATE MODEL\n",
    "static_y0 = args.data_class.static_initial_value()\n",
    "\n",
    "pred_field = get_predicted_vector_field(model, args)\n",
    "pred_traj_rk45 = integrate_model_rk45(model, t_span, static_y0, **kwargs)\n",
    "pred_traj_custom, t_custom = integrate_model_custom(model, t_span, static_y0, args)\n",
    "\n",
    "scheme = choose_scheme(args.loss_type)(args)\n",
    "corrected_model = CorrectedHNN.get(model, scheme, args.h)\n",
    "field_corrected = get_predicted_vector_field(corrected_model, args)\n",
    "pred_traj_corrected = integrate_model_rk45(corrected_model, t_span, static_y0, **kwargs)\n",
    "\n",
    "# Calculate the Hamiltonian along the trajectory\n",
    "#H = model.forward(torch.tensor(pred_traj_rk45, dtype=torch.float32)).data.numpy()\n",
    "\n",
    "# TRUE TRAJECTORY FOR REFERENCE\n",
    "data_loader = args.data_class(args.h, args.noise)\n",
    "exact_field = data_loader.get_analytic_field()\n",
    "exact_traj, _ = data_loader.get_trajectory(t_span=t_span, y0=static_y0)\n",
    "# dataset = data_loader.get_dataset(seed=args.seed, samples=3000, test_split=0.05)  # (3000, 2, 2)\n",
    "# dataset_plot(ax[2], dataset['coords'][:, 0], dataset['test_coords'][:, 0], args, \"Dataset for ...\")\n",
    "\n",
    "# Calculate the initial Hamiltonian = Hamiltonian at all times of true trajectory\n",
    "#Hy0 = data_loader.bundled_hamiltonian(static_y0)\n",
    "\n",
    "# Calculate the respective errors\n",
    "#traj_error = np.linalg.norm(pred_traj_rk45 - exact_traj, axis=1)\n",
    "#H_error = np.abs(H - Hy0)\n",
    "\n",
    "fig = plt.figure(figsize=(28, 6), facecolor='white', dpi=300)\n",
    "ax = [fig.add_subplot(1, 5, i + 1, frameon=True) for i in range(5)]  # kwarg useful sometimes: aspect='equal'\n",
    "\n",
    "title_true = f\"True Trajectory\\n (Integrated with RK45)\"\n",
    "phase_space_plot(ax[0], exact_field, exact_traj, title_true, args)\n",
    "\n",
    "title_pred = f\"Symplectic HNN: $h = {args.h}, t_f = {t_span[1]}$\\n Trained with {args.loss_type}, Integrated with RK45\"\n",
    "phase_space_plot(ax[1], pred_field, pred_traj_rk45, title_pred, args)\n",
    "\n",
    "title_custom = f\"Symplectic HNN: $h = {args.h}, t_f = {t_span[1]}$\\n Trained with {args.loss_type}, Integrated with {args.loss_type}\"\n",
    "phase_space_plot(ax[2], pred_field, pred_traj_custom, title_custom, args)\n",
    "\n",
    "title_corr = f\"Corrected Trajectory\"\n",
    "phase_space_plot(ax[3], field_corrected, pred_traj_corrected, title_corr, args)\n",
    "\n",
    "lim = len(t_eval)//3\n",
    "title_both = f\"$p$ Coordinate vs. Time \\n (Note: smaller t-interval for more clarity)\"\n",
    "axes = plt\n",
    "axes.plot(t_eval[:lim], exact_traj[:lim, 0], label='Exact')\n",
    "axes.plot(t_eval[:lim], pred_traj_rk45[:lim, 0], label='Pred RK45')\n",
    "axes.plot(t_custom[:lim], pred_traj_custom[:lim, 0], label=f'Pred {args.loss_type}')\n",
    "axes.plot(t_eval[:lim], pred_traj_corrected[:lim, 0], label='Pred Corrected')\n",
    "axes.set_xlabel(\"$t$\", fontsize=14)\n",
    "axes.set_ylabel(\"$p$\", rotation=0, fontsize=14)\n",
    "axes.legend()\n",
    "axes.set_title(title_both)\n",
    "\n",
    "#title_trajerror = f\"Deviation (norm of error) of the two trajectories \\n (Over full timespan, $t_f = {t_span[1]}$)\"\n",
    "#plot_helper(ax[3], t_eval, traj_error, title_trajerror)\n",
    "\n",
    "# TODO Eventually fix the scientific notation for the axis scale, see this question:\n",
    "#       https://stackoverflow.com/questions/42656139/set-scientific-notation-with-fixed-exponent-and-significant-digits-for-multiple\n",
    "#title3 = r\"Deviation of the Hamiltonian: $|H(y(t)) - H(y_0)|$\"\n",
    "#plot_helper(ax[3], t_eval, H_error, title3)\n",
    "\n",
    "# Old code to investigate individual\n",
    "#ax[2].plot(t_eval, exact_traj[:, 0], color='blue')\n",
    "#ax[2].plot(t_eval, pred_traj_rk45[:, 0], color='red')\n",
    "\n",
    "# SAVE FIGURE USING USUAL PATH\n",
    "plt.savefig(save_path(args, ext='pdf'))"
   ]
  }
 ],
 "metadata": {
  "kernelspec": {
   "display_name": "Python 3",
   "language": "python",
   "name": "python3"
  },
  "language_info": {
   "codemirror_mode": {
    "name": "ipython",
    "version": 3
   },
   "file_extension": ".py",
   "mimetype": "text/x-python",
   "name": "python",
   "nbconvert_exporter": "python",
   "pygments_lexer": "ipython3",
   "version": "3.9.4"
  },
  "toc": {
   "nav_menu": {},
   "number_sections": false,
   "sideBar": true,
   "skip_h1_title": true,
   "toc_cell": false,
   "toc_position": {},
   "toc_section_display": "block",
   "toc_window_display": false
  }
 },
 "nbformat": 4,
 "nbformat_minor": 5
}
