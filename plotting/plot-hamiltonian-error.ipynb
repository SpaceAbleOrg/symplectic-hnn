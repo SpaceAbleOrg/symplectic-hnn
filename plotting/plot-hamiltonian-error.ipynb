{
 "cells": [
  {
   "cell_type": "code",
   "execution_count": 1,
   "id": "5028303d",
   "metadata": {},
   "outputs": [],
   "source": [
    "# If this notebook is in a subdirectory of the project's root,\n",
    "# update the PYTHONPATH to be able to import as usual\n",
    "import os, sys\n",
    "project_root = os.path.dirname(os.path.abspath(''))\n",
    "sys.path.append(project_root)"
   ]
  },
  {
   "cell_type": "code",
   "execution_count": 2,
   "id": "35de3889",
   "metadata": {},
   "outputs": [],
   "source": [
    "# Standard Imports\n",
    "import numpy as np\n",
    "import matplotlib as mpl\n",
    "from matplotlib import pyplot as plt\n",
    "\n",
    "# Project Imports\n",
    "from train import setup\n",
    "from parallelize import load_args\n",
    "from utils import save_path\n",
    "from metrics import calc_herr"
   ]
  },
  {
   "cell_type": "code",
   "execution_count": 86,
   "id": "bfb7694c",
   "metadata": {},
   "outputs": [],
   "source": [
    "hs = np.array([0.8, 0.4, 0.2, 0.1, 0.05])\n",
    "methods = ['euler-forw', 'euler-symp', 'midpoint']"
   ]
  },
  {
   "cell_type": "code",
   "execution_count": 87,
   "id": "3d763d3e",
   "metadata": {},
   "outputs": [],
   "source": [
    "# Train all missing models (not recommended on CPU)\n",
    "# from joblib import Parallel, delayed\n",
    "# from model.args import custom_product\n",
    "# from train import train_if_missing\n",
    "# args_list = list(load_args(base_args=default_args, custom_prod=custom_product(h_list=hs, loss_type_list=methods)))\n",
    "# _ = Parallel(n_jobs=-1, verbose=True)(delayed(train_if_missing)(args, save_dir_prefix='/results/experiment-') for args in args_list)"
   ]
  },
  {
   "cell_type": "markdown",
   "id": "f2a99982",
   "metadata": {},
   "source": [
    "## Outsource some of the calculations before plotting"
   ]
  },
  {
   "cell_type": "code",
   "execution_count": 88,
   "id": "da38a818",
   "metadata": {},
   "outputs": [],
   "source": [
    "def plot_herr(axes, args, legend_loc='lower right', annotate_slopes=False):\n",
    "    # Plot grey guides of y = px, indicating errors of order p \n",
    "    #axes.loglog(hs, hs, '--', color='lightgrey', label=r'$\\varepsilon = h$')  # p = 1\n",
    "    #axes.loglog(hs, hs**2, '--', color='lightgrey', label=r'$\\varepsilon = h^2$')  # p = 2\n",
    "    axes.loglog(hs, hs, '--', color='lightgrey')\n",
    "    axes.loglog(hs, hs**2, '--', color='lightgrey')\n",
    "    \n",
    "    # Plot errors for each method\n",
    "    for method in methods:\n",
    "        err = calc_herr(args | {'loss_type': method}, hs)\n",
    "        axes.errorbar(hs, err[:, 0], yerr=err[:, 1], fmt='o-',\n",
    "                      label=r'$\\varepsilon_H$ ' + print_method[method])\n",
    "    \n",
    "    # Plot errors for the corrected symplectic Euler\n",
    "    err = calc_herr(args | {'loss_type': 'euler-symp'}, hs, corrected=True)\n",
    "    axes.errorbar(hs, err[:, 0], yerr=err[:, 1], fmt='o-',\n",
    "                  label=r'$\\varepsilon_H$ corrected ' + print_method['euler-symp'])\n",
    "\n",
    "    axes.set_xlabel(\"Discretization Step $h$\")  # possible kwargs: fontsize=14\n",
    "    axes.set_ylabel(r\"Error $\\varepsilon$\")  # possible kwargs: rotation=0, fontsize=14\n",
    "    axes.set_xticks(hs)\n",
    "    axes.set_xticklabels(map(str, hs))\n",
    "    #axes.set_title(f\"{print_name[args.name]}: Hamiltonian Error \\n (over the relevant phase space region)\", pad=10)\n",
    "    axes.set_title(f\"{print_name[args.name]}: Hamiltonian Error\")#, pad=10) \n",
    "    \n",
    "    if annotate_slopes:\n",
    "        axes.text(0.14, 0.14-0.02, r'$\\varepsilon \\in \\mathcal O(h)$',\n",
    "                  color='grey', rotation=15, verticalalignment='bottom', horizontalalignment='center')\n",
    "        axes.text(0.15, 0.15**2-0.005, r'$\\varepsilon \\in \\mathcal O(h^2)$',\n",
    "                  color='grey', rotation=25, verticalalignment='bottom', horizontalalignment='center')\n",
    "    \n",
    "    legend = axes.legend(loc=legend_loc)\n",
    "    legend.get_frame().set_facecolor('0.9')  # fill the legend dark grey\n",
    "    legend.get_frame().set_linewidth(0.0)  # remove the black border"
   ]
  },
  {
   "cell_type": "markdown",
   "id": "42234138",
   "metadata": {},
   "source": [
    "## Start Plotting Code"
   ]
  },
  {
   "cell_type": "code",
   "execution_count": 89,
   "id": "f0d720df",
   "metadata": {},
   "outputs": [],
   "source": [
    "from visualize import *\n",
    "mpl.rcParams.update(params)\n",
    "%matplotlib inline"
   ]
  },
  {
   "cell_type": "code",
   "execution_count": 90,
   "id": "af3e6f5c",
   "metadata": {},
   "outputs": [],
   "source": [
    "# TESTING: The below needs only one method (but all h's) for one problem\n",
    "#calc_herr(default_args | {'loss_type': 'euler-symp'})\n",
    "# TESTING: The below needs all methods and all h's of one problem\n",
    "#fig, axes = plt.subplots() \n",
    "#plot_herr(axes, default_args | {'name': 'pendulum'}, annotate_slopes=True)\n",
    "# OR\n",
    "#plot_herr(axes, default_args | {'name': 'pendulum'})"
   ]
  },
  {
   "cell_type": "code",
   "execution_count": null,
   "id": "9298785a",
   "metadata": {},
   "outputs": [],
   "source": [
    "# PLOT ALL TOGETHER\n",
    "fig, ((ax1, ax2), (ax3, ax4)) = plt.subplots(2, 2, figsize=(11, 13*golden_ratio))\n",
    "fig.subplots_adjust(wspace=0.2, hspace=0.4)\n",
    "\n",
    "plot_herr(ax1, default_args | {'name': 'spring'}, annotate_slopes=True)\n",
    "plot_herr(ax2, default_args | {'name': 'pendulum'})\n",
    "plot_herr(ax3, default_args | {'name': 'twobody'})\n",
    "plot_herr(ax4, default_args | {'name': 'fput'})\n",
    "\n",
    "fig.savefig(\"hamiltonian-error.pdf\", format='pdf', bbox_inches='tight')"
   ]
  },
  {
   "cell_type": "markdown",
   "id": "6daf5730",
   "metadata": {},
   "source": [
    "## Old code\n",
    "\n",
    "Used to also plot Hamiltonian error landscape in phase space, for 2D systems like spring/pendulum."
   ]
  },
  {
   "cell_type": "code",
   "execution_count": 10,
   "id": "a8cf9df3",
   "metadata": {},
   "outputs": [],
   "source": [
    "if False:\n",
    "    from model.data import get_t_eval\n",
    "\n",
    "    t_span = (0, 300)\n",
    "    t_eval = get_t_eval(t_span, args.h)\n",
    "\n",
    "    # Use RK45 with rtol of 1e-9 to have RK45 effectively yield the true flow of a vector field \n",
    "    kwargs = {'t_eval': t_eval, 'rtol': 1e-9, 'method': 'RK45'}\n",
    "\n",
    "    # INTEGRATE MODEL\n",
    "    static_y0 = args.data_class.static_initial_value()\n",
    "\n",
    "    pred_field = get_predicted_vector_field(model, args)\n",
    "    pred_traj_rk45 = integrate_model_rk45(model, t_span, static_y0, **kwargs)\n",
    "    pred_traj_custom, t_custom = integrate_model_custom(model, t_span, static_y0, args)\n",
    "\n",
    "    scheme = choose_scheme(args.loss_type)(args)\n",
    "    corrected_model = CorrectedHNN.get(model, scheme, args.h)\n",
    "    field_corrected = get_predicted_vector_field(corrected_model, args)\n",
    "    pred_traj_corrected = integrate_model_rk45(corrected_model, t_span, static_y0, **kwargs)\n",
    "\n",
    "    # Calculate the Hamiltonian along the trajectory\n",
    "    #H = model.forward(torch.tensor(pred_traj_rk45, dtype=torch.float32)).data.numpy()\n",
    "\n",
    "    # TRUE TRAJECTORY FOR REFERENCE\n",
    "    data_loader = args.data_class(args.h, args.noise)\n",
    "    exact_field = data_loader.get_analytic_field()\n",
    "    exact_traj, _ = data_loader.get_trajectory(t_span=t_span, y0=static_y0)\n",
    "    # dataset = data_loader.get_dataset(seed=args.seed, samples=3000, test_split=0.05)  # (3000, 2, 2)\n",
    "    # dataset_plot(ax[2], dataset['coords'][:, 0], dataset['test_coords'][:, 0], args, \"Dataset for ...\")\n",
    "\n",
    "    # Calculate the initial Hamiltonian = Hamiltonian at all times of true trajectory\n",
    "    #Hy0 = data_loader.bundled_hamiltonian(static_y0)\n",
    "\n",
    "    # Calculate the respective errors\n",
    "    #traj_error = np.linalg.norm(pred_traj_rk45 - exact_traj, axis=1)\n",
    "    #H_error = np.abs(H - Hy0)\n",
    "\n",
    "    fig = plt.figure(figsize=(28, 6), facecolor='white', dpi=300)\n",
    "    ax = [fig.add_subplot(1, 5, i + 1, frameon=True) for i in range(5)]  # kwarg useful sometimes: aspect='equal'\n",
    "\n",
    "    title_true = f\"True Trajectory\\n (Integrated with RK45)\"\n",
    "    phase_space_plot(ax[0], exact_field, exact_traj, title_true, args)\n",
    "\n",
    "    title_pred = f\"Symplectic HNN: $h = {args.h}, t_f = {t_span[1]}$\\n Trained with {args.loss_type}, Integrated with RK45\"\n",
    "    phase_space_plot(ax[1], pred_field, pred_traj_rk45, title_pred, args)\n",
    "\n",
    "    title_custom = f\"Symplectic HNN: $h = {args.h}, t_f = {t_span[1]}$\\n Trained with {args.loss_type}, Integrated with {args.loss_type}\"\n",
    "    phase_space_plot(ax[2], pred_field, pred_traj_custom, title_custom, args)\n",
    "\n",
    "    title_corr = f\"Corrected Trajectory\"\n",
    "    phase_space_plot(ax[3], field_corrected, pred_traj_corrected, title_corr, args)\n",
    "\n",
    "    lim = len(t_eval)//3\n",
    "    title_both = f\"$p$ Coordinate vs. Time \\n (Note: smaller t-interval for more clarity)\"\n",
    "    axes = plt\n",
    "    axes.plot(t_eval[:lim], exact_traj[:lim, 0], label='Exact')\n",
    "    axes.plot(t_eval[:lim], pred_traj_rk45[:lim, 0], label='Pred RK45')\n",
    "    axes.plot(t_custom[:lim], pred_traj_custom[:lim, 0], label=f'Pred {args.loss_type}')\n",
    "    axes.plot(t_eval[:lim], pred_traj_corrected[:lim, 0], label='Pred Corrected')\n",
    "    axes.set_xlabel(\"$t$\", fontsize=14)\n",
    "    axes.set_ylabel(\"$p$\", rotation=0, fontsize=14)\n",
    "    axes.legend()\n",
    "    axes.set_title(title_both)\n",
    "\n",
    "    #title_trajerror = f\"Deviation (norm of error) of the two trajectories \\n (Over full timespan, $t_f = {t_span[1]}$)\"\n",
    "    #plot_helper(ax[3], t_eval, traj_error, title_trajerror)\n",
    "\n",
    "    # TODO Eventually fix the scientific notation for the axis scale, see this question:\n",
    "    #       https://stackoverflow.com/questions/42656139/set-scientific-notation-with-fixed-exponent-and-significant-digits-for-multiple\n",
    "    #title3 = r\"Deviation of the Hamiltonian: $|H(y(t)) - H(y_0)|$\"\n",
    "    #plot_helper(ax[3], t_eval, H_error, title3)\n",
    "\n",
    "    # Old code to investigate individual\n",
    "    #ax[2].plot(t_eval, exact_traj[:, 0], color='blue')\n",
    "    #ax[2].plot(t_eval, pred_traj_rk45[:, 0], color='red')\n",
    "\n",
    "    # SAVE FIGURE USING USUAL PATH\n",
    "    plt.savefig(save_path(args, ext='pdf'))"
   ]
  }
 ],
 "metadata": {
  "kernelspec": {
   "display_name": "Python 3",
   "language": "python",
   "name": "python3"
  },
  "language_info": {
   "codemirror_mode": {
    "name": "ipython",
    "version": 3
   },
   "file_extension": ".py",
   "mimetype": "text/x-python",
   "name": "python",
   "nbconvert_exporter": "python",
   "pygments_lexer": "ipython3",
   "version": "3.9.4"
  },
  "toc": {
   "nav_menu": {},
   "number_sections": false,
   "sideBar": true,
   "skip_h1_title": true,
   "toc_cell": false,
   "toc_position": {},
   "toc_section_display": "block",
   "toc_window_display": false
  }
 },
 "nbformat": 4,
 "nbformat_minor": 5
}
